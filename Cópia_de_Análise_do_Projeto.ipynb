{
  "nbformat": 4,
  "nbformat_minor": 0,
  "metadata": {
    "colab": {
      "provenance": [],
      "include_colab_link": true
    },
    "kernelspec": {
      "name": "python3",
      "display_name": "Python 3"
    },
    "language_info": {
      "name": "python"
    }
  },
  "cells": [
    {
      "cell_type": "markdown",
      "metadata": {
        "id": "view-in-github",
        "colab_type": "text"
      },
      "source": [
        "<a href=\"https://colab.research.google.com/github/MatheusRYSE/projeto-An-lise-explorat-ria/blob/main/C%C3%B3pia_de_An%C3%A1lise_do_Projeto.ipynb\" target=\"_parent\"><img src=\"https://colab.research.google.com/assets/colab-badge.svg\" alt=\"Open In Colab\"/></a>"
      ]
    },
    {
      "cell_type": "code",
      "execution_count": null,
      "metadata": {
        "id": "56EThGaOAWmE"
      },
      "outputs": [],
      "source": [
        "\n",
        "\n",
        "# Imports necessarios\n",
        "\n",
        "import pandas as pd\n",
        "import numpy as np\n",
        "import matplotlib.pyplot as plt\n",
        "import seaborn as sns\n",
        "import plotly.express as px\n",
        "\n",
        "import warnings\n",
        "warnings.filterwarnings('ignore')\n",
        "\n",
        "plt.style.use('fivethirtyeight')\n",
        "%matplotlib inline\n",
        "\n",
        "# lidar com grandes quantidades de números, lidar com estatísticas, integração numérica,\n",
        "# solução de equações diferenciais, otimização, integração, álgebra linear, funções especiais,\n",
        "# polinômios\n",
        "from scipy import stats\n",
        "\n",
        "# aplicação prática de machine learning\n",
        "from sklearn.preprocessing import StandardScaler\n",
        "from sklearn.linear_model import LinearRegression\n",
        "import statsmodels.api as sm\n",
        "from statsmodels.formula.api import ols\n",
        "from xgboost import XGBRegressor\n",
        "from sklearn.ensemble import RandomForestRegressor\n",
        "from sklearn.ensemble import AdaBoostRegressor\n",
        "\n",
        "\n",
        "# Medidas de avaliação\n",
        "from sklearn.metrics import mean_squared_error, r2_score, confusion_matrix\n",
        "from sklearn import metrics\n",
        "\n",
        "# Separação dos arquivos treino, teste\n",
        "from sklearn.model_selection import train_test_split\n",
        "\n",
        "# Visualizar todas as colunas e linhas\n",
        "pd.set_option('display.max_columns', None)\n",
        "pd.set_option('display.max_rows', None)"
      ]
    },
    {
      "cell_type": "code",
      "source": [
        "# Conexão com o drive\n",
        "from google.colab import drive\n",
        "drive.mount('/content/drive')"
      ],
      "metadata": {
        "colab": {
          "base_uri": "https://localhost:8080/"
        },
        "id": "kOgC_i41Aem3",
        "outputId": "51b45cec-7d6a-48a9-aafe-208f12f5a137"
      },
      "execution_count": null,
      "outputs": [
        {
          "output_type": "stream",
          "name": "stdout",
          "text": [
            "Mounted at /content/drive\n"
          ]
        }
      ]
    },
    {
      "cell_type": "markdown",
      "source": [],
      "metadata": {
        "id": "DJLq41QoMbY9"
      }
    },
    {
      "cell_type": "code",
      "source": [
        "# loading data\n",
        "df = pd.read_csv('/content/drive/MyDrive/Fornecedores_rev7.csv')\n",
        "df.head(5)"
      ],
      "metadata": {
        "colab": {
          "base_uri": "https://localhost:8080/",
          "height": 399
        },
        "id": "kp0hXu4qA-n0",
        "outputId": "76ac96e5-dead-44c4-fc63-e4da25b3137b"
      },
      "execution_count": null,
      "outputs": [
        {
          "output_type": "execute_result",
          "data": {
            "text/plain": [
              "   ID               Fornecedor                           Item  Qualid_Produto  \\\n",
              "0   1  Ali Queen Hair Products        Kit de Barbear Clássico             8.5   \n",
              "1   2                    SARLA     Máquina de Barbear Premium             9.0   \n",
              "2   3         HJ Hair Products    Conjunto de Barbear Luxuoso             8.0   \n",
              "3   4           Ali Grace Hair  Espuma de Barbear Refrescante             7.0   \n",
              "4   5              Rosa Beauty  Loção Pós-Barba Revitalizante             8.5   \n",
              "\n",
              "   Preço  Prazo_Entrega_Dias  Historico_Compras  Aval_Cliente_Confiab  \\\n",
              "0    7.5                   5                120                   9.0   \n",
              "1    8.0                   7                320                   8.5   \n",
              "2    6.5                   6                520                   7.0   \n",
              "3    5.5                  10                740                   8.0   \n",
              "4    7.0                   8                940                   8.5   \n",
              "\n",
              "  Capac_Producao Sustentabilidade Bloco_Armazem Modo_Envio  Custo_Produto  \\\n",
              "0           Alta            Média             D        Voo            177   \n",
              "1          Média             Alta             F        Voo            216   \n",
              "2           Alta            Baixa             A        Voo            183   \n",
              "3          Média             Alta             B        Voo            176   \n",
              "4           Alta            Média             C        Voo            184   \n",
              "\n",
              "   Desconto_Oferecido  Entregue_No_Prazo  \n",
              "0                  44                  1  \n",
              "1                  59                  1  \n",
              "2                  48                  1  \n",
              "3                  10                  1  \n",
              "4                  46                  1  "
            ],
            "text/html": [
              "\n",
              "  <div id=\"df-ff0086c2-ff98-4192-b916-5d5b0ef20cc5\" class=\"colab-df-container\">\n",
              "    <div>\n",
              "<style scoped>\n",
              "    .dataframe tbody tr th:only-of-type {\n",
              "        vertical-align: middle;\n",
              "    }\n",
              "\n",
              "    .dataframe tbody tr th {\n",
              "        vertical-align: top;\n",
              "    }\n",
              "\n",
              "    .dataframe thead th {\n",
              "        text-align: right;\n",
              "    }\n",
              "</style>\n",
              "<table border=\"1\" class=\"dataframe\">\n",
              "  <thead>\n",
              "    <tr style=\"text-align: right;\">\n",
              "      <th></th>\n",
              "      <th>ID</th>\n",
              "      <th>Fornecedor</th>\n",
              "      <th>Item</th>\n",
              "      <th>Qualid_Produto</th>\n",
              "      <th>Preço</th>\n",
              "      <th>Prazo_Entrega_Dias</th>\n",
              "      <th>Historico_Compras</th>\n",
              "      <th>Aval_Cliente_Confiab</th>\n",
              "      <th>Capac_Producao</th>\n",
              "      <th>Sustentabilidade</th>\n",
              "      <th>Bloco_Armazem</th>\n",
              "      <th>Modo_Envio</th>\n",
              "      <th>Custo_Produto</th>\n",
              "      <th>Desconto_Oferecido</th>\n",
              "      <th>Entregue_No_Prazo</th>\n",
              "    </tr>\n",
              "  </thead>\n",
              "  <tbody>\n",
              "    <tr>\n",
              "      <th>0</th>\n",
              "      <td>1</td>\n",
              "      <td>Ali Queen Hair Products</td>\n",
              "      <td>Kit de Barbear Clássico</td>\n",
              "      <td>8.5</td>\n",
              "      <td>7.5</td>\n",
              "      <td>5</td>\n",
              "      <td>120</td>\n",
              "      <td>9.0</td>\n",
              "      <td>Alta</td>\n",
              "      <td>Média</td>\n",
              "      <td>D</td>\n",
              "      <td>Voo</td>\n",
              "      <td>177</td>\n",
              "      <td>44</td>\n",
              "      <td>1</td>\n",
              "    </tr>\n",
              "    <tr>\n",
              "      <th>1</th>\n",
              "      <td>2</td>\n",
              "      <td>SARLA</td>\n",
              "      <td>Máquina de Barbear Premium</td>\n",
              "      <td>9.0</td>\n",
              "      <td>8.0</td>\n",
              "      <td>7</td>\n",
              "      <td>320</td>\n",
              "      <td>8.5</td>\n",
              "      <td>Média</td>\n",
              "      <td>Alta</td>\n",
              "      <td>F</td>\n",
              "      <td>Voo</td>\n",
              "      <td>216</td>\n",
              "      <td>59</td>\n",
              "      <td>1</td>\n",
              "    </tr>\n",
              "    <tr>\n",
              "      <th>2</th>\n",
              "      <td>3</td>\n",
              "      <td>HJ Hair Products</td>\n",
              "      <td>Conjunto de Barbear Luxuoso</td>\n",
              "      <td>8.0</td>\n",
              "      <td>6.5</td>\n",
              "      <td>6</td>\n",
              "      <td>520</td>\n",
              "      <td>7.0</td>\n",
              "      <td>Alta</td>\n",
              "      <td>Baixa</td>\n",
              "      <td>A</td>\n",
              "      <td>Voo</td>\n",
              "      <td>183</td>\n",
              "      <td>48</td>\n",
              "      <td>1</td>\n",
              "    </tr>\n",
              "    <tr>\n",
              "      <th>3</th>\n",
              "      <td>4</td>\n",
              "      <td>Ali Grace Hair</td>\n",
              "      <td>Espuma de Barbear Refrescante</td>\n",
              "      <td>7.0</td>\n",
              "      <td>5.5</td>\n",
              "      <td>10</td>\n",
              "      <td>740</td>\n",
              "      <td>8.0</td>\n",
              "      <td>Média</td>\n",
              "      <td>Alta</td>\n",
              "      <td>B</td>\n",
              "      <td>Voo</td>\n",
              "      <td>176</td>\n",
              "      <td>10</td>\n",
              "      <td>1</td>\n",
              "    </tr>\n",
              "    <tr>\n",
              "      <th>4</th>\n",
              "      <td>5</td>\n",
              "      <td>Rosa Beauty</td>\n",
              "      <td>Loção Pós-Barba Revitalizante</td>\n",
              "      <td>8.5</td>\n",
              "      <td>7.0</td>\n",
              "      <td>8</td>\n",
              "      <td>940</td>\n",
              "      <td>8.5</td>\n",
              "      <td>Alta</td>\n",
              "      <td>Média</td>\n",
              "      <td>C</td>\n",
              "      <td>Voo</td>\n",
              "      <td>184</td>\n",
              "      <td>46</td>\n",
              "      <td>1</td>\n",
              "    </tr>\n",
              "  </tbody>\n",
              "</table>\n",
              "</div>\n",
              "    <div class=\"colab-df-buttons\">\n",
              "\n",
              "  <div class=\"colab-df-container\">\n",
              "    <button class=\"colab-df-convert\" onclick=\"convertToInteractive('df-ff0086c2-ff98-4192-b916-5d5b0ef20cc5')\"\n",
              "            title=\"Convert this dataframe to an interactive table.\"\n",
              "            style=\"display:none;\">\n",
              "\n",
              "  <svg xmlns=\"http://www.w3.org/2000/svg\" height=\"24px\" viewBox=\"0 -960 960 960\">\n",
              "    <path d=\"M120-120v-720h720v720H120Zm60-500h600v-160H180v160Zm220 220h160v-160H400v160Zm0 220h160v-160H400v160ZM180-400h160v-160H180v160Zm440 0h160v-160H620v160ZM180-180h160v-160H180v160Zm440 0h160v-160H620v160Z\"/>\n",
              "  </svg>\n",
              "    </button>\n",
              "\n",
              "  <style>\n",
              "    .colab-df-container {\n",
              "      display:flex;\n",
              "      gap: 12px;\n",
              "    }\n",
              "\n",
              "    .colab-df-convert {\n",
              "      background-color: #E8F0FE;\n",
              "      border: none;\n",
              "      border-radius: 50%;\n",
              "      cursor: pointer;\n",
              "      display: none;\n",
              "      fill: #1967D2;\n",
              "      height: 32px;\n",
              "      padding: 0 0 0 0;\n",
              "      width: 32px;\n",
              "    }\n",
              "\n",
              "    .colab-df-convert:hover {\n",
              "      background-color: #E2EBFA;\n",
              "      box-shadow: 0px 1px 2px rgba(60, 64, 67, 0.3), 0px 1px 3px 1px rgba(60, 64, 67, 0.15);\n",
              "      fill: #174EA6;\n",
              "    }\n",
              "\n",
              "    .colab-df-buttons div {\n",
              "      margin-bottom: 4px;\n",
              "    }\n",
              "\n",
              "    [theme=dark] .colab-df-convert {\n",
              "      background-color: #3B4455;\n",
              "      fill: #D2E3FC;\n",
              "    }\n",
              "\n",
              "    [theme=dark] .colab-df-convert:hover {\n",
              "      background-color: #434B5C;\n",
              "      box-shadow: 0px 1px 3px 1px rgba(0, 0, 0, 0.15);\n",
              "      filter: drop-shadow(0px 1px 2px rgba(0, 0, 0, 0.3));\n",
              "      fill: #FFFFFF;\n",
              "    }\n",
              "  </style>\n",
              "\n",
              "    <script>\n",
              "      const buttonEl =\n",
              "        document.querySelector('#df-ff0086c2-ff98-4192-b916-5d5b0ef20cc5 button.colab-df-convert');\n",
              "      buttonEl.style.display =\n",
              "        google.colab.kernel.accessAllowed ? 'block' : 'none';\n",
              "\n",
              "      async function convertToInteractive(key) {\n",
              "        const element = document.querySelector('#df-ff0086c2-ff98-4192-b916-5d5b0ef20cc5');\n",
              "        const dataTable =\n",
              "          await google.colab.kernel.invokeFunction('convertToInteractive',\n",
              "                                                    [key], {});\n",
              "        if (!dataTable) return;\n",
              "\n",
              "        const docLinkHtml = 'Like what you see? Visit the ' +\n",
              "          '<a target=\"_blank\" href=https://colab.research.google.com/notebooks/data_table.ipynb>data table notebook</a>'\n",
              "          + ' to learn more about interactive tables.';\n",
              "        element.innerHTML = '';\n",
              "        dataTable['output_type'] = 'display_data';\n",
              "        await google.colab.output.renderOutput(dataTable, element);\n",
              "        const docLink = document.createElement('div');\n",
              "        docLink.innerHTML = docLinkHtml;\n",
              "        element.appendChild(docLink);\n",
              "      }\n",
              "    </script>\n",
              "  </div>\n",
              "\n",
              "\n",
              "<div id=\"df-6ba9e4a4-6f65-46eb-ae53-308afbc393a7\">\n",
              "  <button class=\"colab-df-quickchart\" onclick=\"quickchart('df-6ba9e4a4-6f65-46eb-ae53-308afbc393a7')\"\n",
              "            title=\"Suggest charts\"\n",
              "            style=\"display:none;\">\n",
              "\n",
              "<svg xmlns=\"http://www.w3.org/2000/svg\" height=\"24px\"viewBox=\"0 0 24 24\"\n",
              "     width=\"24px\">\n",
              "    <g>\n",
              "        <path d=\"M19 3H5c-1.1 0-2 .9-2 2v14c0 1.1.9 2 2 2h14c1.1 0 2-.9 2-2V5c0-1.1-.9-2-2-2zM9 17H7v-7h2v7zm4 0h-2V7h2v10zm4 0h-2v-4h2v4z\"/>\n",
              "    </g>\n",
              "</svg>\n",
              "  </button>\n",
              "\n",
              "<style>\n",
              "  .colab-df-quickchart {\n",
              "      --bg-color: #E8F0FE;\n",
              "      --fill-color: #1967D2;\n",
              "      --hover-bg-color: #E2EBFA;\n",
              "      --hover-fill-color: #174EA6;\n",
              "      --disabled-fill-color: #AAA;\n",
              "      --disabled-bg-color: #DDD;\n",
              "  }\n",
              "\n",
              "  [theme=dark] .colab-df-quickchart {\n",
              "      --bg-color: #3B4455;\n",
              "      --fill-color: #D2E3FC;\n",
              "      --hover-bg-color: #434B5C;\n",
              "      --hover-fill-color: #FFFFFF;\n",
              "      --disabled-bg-color: #3B4455;\n",
              "      --disabled-fill-color: #666;\n",
              "  }\n",
              "\n",
              "  .colab-df-quickchart {\n",
              "    background-color: var(--bg-color);\n",
              "    border: none;\n",
              "    border-radius: 50%;\n",
              "    cursor: pointer;\n",
              "    display: none;\n",
              "    fill: var(--fill-color);\n",
              "    height: 32px;\n",
              "    padding: 0;\n",
              "    width: 32px;\n",
              "  }\n",
              "\n",
              "  .colab-df-quickchart:hover {\n",
              "    background-color: var(--hover-bg-color);\n",
              "    box-shadow: 0 1px 2px rgba(60, 64, 67, 0.3), 0 1px 3px 1px rgba(60, 64, 67, 0.15);\n",
              "    fill: var(--button-hover-fill-color);\n",
              "  }\n",
              "\n",
              "  .colab-df-quickchart-complete:disabled,\n",
              "  .colab-df-quickchart-complete:disabled:hover {\n",
              "    background-color: var(--disabled-bg-color);\n",
              "    fill: var(--disabled-fill-color);\n",
              "    box-shadow: none;\n",
              "  }\n",
              "\n",
              "  .colab-df-spinner {\n",
              "    border: 2px solid var(--fill-color);\n",
              "    border-color: transparent;\n",
              "    border-bottom-color: var(--fill-color);\n",
              "    animation:\n",
              "      spin 1s steps(1) infinite;\n",
              "  }\n",
              "\n",
              "  @keyframes spin {\n",
              "    0% {\n",
              "      border-color: transparent;\n",
              "      border-bottom-color: var(--fill-color);\n",
              "      border-left-color: var(--fill-color);\n",
              "    }\n",
              "    20% {\n",
              "      border-color: transparent;\n",
              "      border-left-color: var(--fill-color);\n",
              "      border-top-color: var(--fill-color);\n",
              "    }\n",
              "    30% {\n",
              "      border-color: transparent;\n",
              "      border-left-color: var(--fill-color);\n",
              "      border-top-color: var(--fill-color);\n",
              "      border-right-color: var(--fill-color);\n",
              "    }\n",
              "    40% {\n",
              "      border-color: transparent;\n",
              "      border-right-color: var(--fill-color);\n",
              "      border-top-color: var(--fill-color);\n",
              "    }\n",
              "    60% {\n",
              "      border-color: transparent;\n",
              "      border-right-color: var(--fill-color);\n",
              "    }\n",
              "    80% {\n",
              "      border-color: transparent;\n",
              "      border-right-color: var(--fill-color);\n",
              "      border-bottom-color: var(--fill-color);\n",
              "    }\n",
              "    90% {\n",
              "      border-color: transparent;\n",
              "      border-bottom-color: var(--fill-color);\n",
              "    }\n",
              "  }\n",
              "</style>\n",
              "\n",
              "  <script>\n",
              "    async function quickchart(key) {\n",
              "      const quickchartButtonEl =\n",
              "        document.querySelector('#' + key + ' button');\n",
              "      quickchartButtonEl.disabled = true;  // To prevent multiple clicks.\n",
              "      quickchartButtonEl.classList.add('colab-df-spinner');\n",
              "      try {\n",
              "        const charts = await google.colab.kernel.invokeFunction(\n",
              "            'suggestCharts', [key], {});\n",
              "      } catch (error) {\n",
              "        console.error('Error during call to suggestCharts:', error);\n",
              "      }\n",
              "      quickchartButtonEl.classList.remove('colab-df-spinner');\n",
              "      quickchartButtonEl.classList.add('colab-df-quickchart-complete');\n",
              "    }\n",
              "    (() => {\n",
              "      let quickchartButtonEl =\n",
              "        document.querySelector('#df-6ba9e4a4-6f65-46eb-ae53-308afbc393a7 button');\n",
              "      quickchartButtonEl.style.display =\n",
              "        google.colab.kernel.accessAllowed ? 'block' : 'none';\n",
              "    })();\n",
              "  </script>\n",
              "</div>\n",
              "    </div>\n",
              "  </div>\n"
            ],
            "application/vnd.google.colaboratory.intrinsic+json": {
              "type": "dataframe",
              "variable_name": "df",
              "summary": "{\n  \"name\": \"df\",\n  \"rows\": 200,\n  \"fields\": [\n    {\n      \"column\": \"ID\",\n      \"properties\": {\n        \"dtype\": \"number\",\n        \"std\": 57,\n        \"min\": 1,\n        \"max\": 200,\n        \"num_unique_values\": 200,\n        \"samples\": [\n          96,\n          16,\n          31\n        ],\n        \"semantic_type\": \"\",\n        \"description\": \"\"\n      }\n    },\n    {\n      \"column\": \"Fornecedor\",\n      \"properties\": {\n        \"dtype\": \"category\",\n        \"num_unique_values\": 33,\n        \"samples\": [\n          \"Miss Cara\",\n          \"Dolago\",\n          \"Cexxy\"\n        ],\n        \"semantic_type\": \"\",\n        \"description\": \"\"\n      }\n    },\n    {\n      \"column\": \"Item\",\n      \"properties\": {\n        \"dtype\": \"category\",\n        \"num_unique_values\": 62,\n        \"samples\": [\n          \"M\\u00e1quina de Barbear de Precis\\u00e3o\",\n          \"Conjunto de Barbear Cl\\u00e1ssico\",\n          \"Kit de Barbear Cl\\u00e1ssico\"\n        ],\n        \"semantic_type\": \"\",\n        \"description\": \"\"\n      }\n    },\n    {\n      \"column\": \"Qualid_Produto\",\n      \"properties\": {\n        \"dtype\": \"number\",\n        \"std\": 0.6719010381188033,\n        \"min\": 7.0,\n        \"max\": 9.5,\n        \"num_unique_values\": 6,\n        \"samples\": [\n          8.5,\n          9.0,\n          7.5\n        ],\n        \"semantic_type\": \"\",\n        \"description\": \"\"\n      }\n    },\n    {\n      \"column\": \"Pre\\u00e7o\",\n      \"properties\": {\n        \"dtype\": \"number\",\n        \"std\": 0.6786588903471583,\n        \"min\": 5.5,\n        \"max\": 8.5,\n        \"num_unique_values\": 7,\n        \"samples\": [\n          7.5,\n          8.0,\n          8.5\n        ],\n        \"semantic_type\": \"\",\n        \"description\": \"\"\n      }\n    },\n    {\n      \"column\": \"Prazo_Entrega_Dias\",\n      \"properties\": {\n        \"dtype\": \"number\",\n        \"std\": 1,\n        \"min\": 3,\n        \"max\": 10,\n        \"num_unique_values\": 7,\n        \"samples\": [\n          5,\n          7,\n          3\n        ],\n        \"semantic_type\": \"\",\n        \"description\": \"\"\n      }\n    },\n    {\n      \"column\": \"Historico_Compras\",\n      \"properties\": {\n        \"dtype\": \"number\",\n        \"std\": 265,\n        \"min\": 120,\n        \"max\": 940,\n        \"num_unique_values\": 18,\n        \"samples\": [\n          120,\n          320,\n          190\n        ],\n        \"semantic_type\": \"\",\n        \"description\": \"\"\n      }\n    },\n    {\n      \"column\": \"Aval_Cliente_Confiab\",\n      \"properties\": {\n        \"dtype\": \"number\",\n        \"std\": 0.6778948718543548,\n        \"min\": 7.0,\n        \"max\": 9.5,\n        \"num_unique_values\": 6,\n        \"samples\": [\n          9.0,\n          8.5,\n          7.5\n        ],\n        \"semantic_type\": \"\",\n        \"description\": \"\"\n      }\n    },\n    {\n      \"column\": \"Capac_Producao\",\n      \"properties\": {\n        \"dtype\": \"category\",\n        \"num_unique_values\": 2,\n        \"samples\": [\n          \"M\\u00e9dia\",\n          \"Alta\"\n        ],\n        \"semantic_type\": \"\",\n        \"description\": \"\"\n      }\n    },\n    {\n      \"column\": \"Sustentabilidade\",\n      \"properties\": {\n        \"dtype\": \"category\",\n        \"num_unique_values\": 3,\n        \"samples\": [\n          \"M\\u00e9dia\",\n          \"Alta\"\n        ],\n        \"semantic_type\": \"\",\n        \"description\": \"\"\n      }\n    },\n    {\n      \"column\": \"Bloco_Armazem\",\n      \"properties\": {\n        \"dtype\": \"category\",\n        \"num_unique_values\": 5,\n        \"samples\": [\n          \"F\",\n          \"C\"\n        ],\n        \"semantic_type\": \"\",\n        \"description\": \"\"\n      }\n    },\n    {\n      \"column\": \"Modo_Envio\",\n      \"properties\": {\n        \"dtype\": \"category\",\n        \"num_unique_values\": 3,\n        \"samples\": [\n          \"Voo\",\n          \"Navio\"\n        ],\n        \"semantic_type\": \"\",\n        \"description\": \"\"\n      }\n    },\n    {\n      \"column\": \"Custo_Produto\",\n      \"properties\": {\n        \"dtype\": \"number\",\n        \"std\": 44,\n        \"min\": 97,\n        \"max\": 286,\n        \"num_unique_values\": 116,\n        \"samples\": [\n          147,\n          184\n        ],\n        \"semantic_type\": \"\",\n        \"description\": \"\"\n      }\n    },\n    {\n      \"column\": \"Desconto_Oferecido\",\n      \"properties\": {\n        \"dtype\": \"number\",\n        \"std\": 18,\n        \"min\": 1,\n        \"max\": 65,\n        \"num_unique_values\": 65,\n        \"samples\": [\n          25,\n          34\n        ],\n        \"semantic_type\": \"\",\n        \"description\": \"\"\n      }\n    },\n    {\n      \"column\": \"Entregue_No_Prazo\",\n      \"properties\": {\n        \"dtype\": \"number\",\n        \"std\": 0,\n        \"min\": 1,\n        \"max\": 1,\n        \"num_unique_values\": 1,\n        \"samples\": [\n          1\n        ],\n        \"semantic_type\": \"\",\n        \"description\": \"\"\n      }\n    }\n  ]\n}"
            }
          },
          "metadata": {},
          "execution_count": 3
        }
      ]
    },
    {
      "cell_type": "code",
      "source": [
        "df.shape"
      ],
      "metadata": {
        "colab": {
          "base_uri": "https://localhost:8080/"
        },
        "id": "JrE0pgkMBEqB",
        "outputId": "44df490a-1ee4-41b1-9831-55865cdf4bc5"
      },
      "execution_count": null,
      "outputs": [
        {
          "output_type": "execute_result",
          "data": {
            "text/plain": [
              "(200, 15)"
            ]
          },
          "metadata": {},
          "execution_count": 4
        }
      ]
    },
    {
      "cell_type": "code",
      "source": [
        "# Colunas em ordem alfabética\n",
        "sorted(df.columns)"
      ],
      "metadata": {
        "colab": {
          "base_uri": "https://localhost:8080/"
        },
        "id": "OnfSxuwtBIjM",
        "outputId": "869c1c80-8659-4826-fd28-007bab65af49"
      },
      "execution_count": null,
      "outputs": [
        {
          "output_type": "execute_result",
          "data": {
            "text/plain": [
              "['Aval_Cliente_Confiab',\n",
              " 'Bloco_Armazem',\n",
              " 'Capac_Producao',\n",
              " 'Custo_Produto',\n",
              " 'Desconto_Oferecido',\n",
              " 'Entregue_No_Prazo',\n",
              " 'Fornecedor',\n",
              " 'Historico_Compras',\n",
              " 'ID',\n",
              " 'Item',\n",
              " 'Modo_Envio',\n",
              " 'Prazo_Entrega_Dias',\n",
              " 'Preço',\n",
              " 'Qualid_Produto',\n",
              " 'Sustentabilidade']"
            ]
          },
          "metadata": {},
          "execution_count": 5
        }
      ]
    },
    {
      "cell_type": "code",
      "source": [
        "df.info()"
      ],
      "metadata": {
        "colab": {
          "base_uri": "https://localhost:8080/"
        },
        "id": "SvIPSr_NBNyO",
        "outputId": "8a2a4faf-66d0-4274-84b6-3174286341b8"
      },
      "execution_count": null,
      "outputs": [
        {
          "output_type": "stream",
          "name": "stdout",
          "text": [
            "<class 'pandas.core.frame.DataFrame'>\n",
            "RangeIndex: 200 entries, 0 to 199\n",
            "Data columns (total 15 columns):\n",
            " #   Column                Non-Null Count  Dtype  \n",
            "---  ------                --------------  -----  \n",
            " 0   ID                    200 non-null    int64  \n",
            " 1   Fornecedor            200 non-null    object \n",
            " 2   Item                  200 non-null    object \n",
            " 3   Qualid_Produto        200 non-null    float64\n",
            " 4   Preço                 200 non-null    float64\n",
            " 5   Prazo_Entrega_Dias    200 non-null    int64  \n",
            " 6   Historico_Compras     200 non-null    int64  \n",
            " 7   Aval_Cliente_Confiab  200 non-null    float64\n",
            " 8   Capac_Producao        200 non-null    object \n",
            " 9   Sustentabilidade      200 non-null    object \n",
            " 10  Bloco_Armazem         200 non-null    object \n",
            " 11  Modo_Envio            200 non-null    object \n",
            " 12  Custo_Produto         200 non-null    int64  \n",
            " 13  Desconto_Oferecido    200 non-null    int64  \n",
            " 14  Entregue_No_Prazo     200 non-null    int64  \n",
            "dtypes: float64(3), int64(6), object(6)\n",
            "memory usage: 23.6+ KB\n"
          ]
        }
      ]
    },
    {
      "cell_type": "code",
      "source": [
        "df.isna().sum()"
      ],
      "metadata": {
        "colab": {
          "base_uri": "https://localhost:8080/"
        },
        "id": "-HSw_tgWBTfe",
        "outputId": "7e48b2bb-bfa9-4ab9-f44d-53d20b6d6f72"
      },
      "execution_count": null,
      "outputs": [
        {
          "output_type": "execute_result",
          "data": {
            "text/plain": [
              "ID                      0\n",
              "Fornecedor              0\n",
              "Item                    0\n",
              "Qualid_Produto          0\n",
              "Preço                   0\n",
              "Prazo_Entrega_Dias      0\n",
              "Historico_Compras       0\n",
              "Aval_Cliente_Confiab    0\n",
              "Capac_Producao          0\n",
              "Sustentabilidade        0\n",
              "Bloco_Armazem           0\n",
              "Modo_Envio              0\n",
              "Custo_Produto           0\n",
              "Desconto_Oferecido      0\n",
              "Entregue_No_Prazo       0\n",
              "dtype: int64"
            ]
          },
          "metadata": {},
          "execution_count": 7
        }
      ]
    },
    {
      "cell_type": "code",
      "source": [
        "df.describe()"
      ],
      "metadata": {
        "colab": {
          "base_uri": "https://localhost:8080/",
          "height": 300
        },
        "id": "6GY88v4lBblm",
        "outputId": "761dd8ac-fe6b-4df8-d98a-ac6b6f16fca4"
      },
      "execution_count": null,
      "outputs": [
        {
          "output_type": "execute_result",
          "data": {
            "text/plain": [
              "               ID  Qualid_Produto       Preço  Prazo_Entrega_Dias  \\\n",
              "count  200.000000      200.000000  200.000000          200.000000   \n",
              "mean   100.500000        8.192500    7.185000            6.465000   \n",
              "std     57.879185        0.671901    0.678659            1.247621   \n",
              "min      1.000000        7.000000    5.500000            3.000000   \n",
              "25%     50.750000        7.500000    6.500000            5.000000   \n",
              "50%    100.500000        8.500000    7.500000            6.000000   \n",
              "75%    150.250000        9.000000    8.000000            7.000000   \n",
              "max    200.000000        9.500000    8.500000           10.000000   \n",
              "\n",
              "       Historico_Compras  Aval_Cliente_Confiab  Custo_Produto  \\\n",
              "count         200.000000            200.000000     200.000000   \n",
              "mean          526.520000              8.197500     189.960000   \n",
              "std           265.103696              0.677895      44.772439   \n",
              "min           120.000000              7.000000      97.000000   \n",
              "25%           320.000000              7.500000     150.750000   \n",
              "50%           520.000000              8.500000     183.000000   \n",
              "75%           740.000000              9.000000     227.000000   \n",
              "max           940.000000              9.500000     286.000000   \n",
              "\n",
              "       Desconto_Oferecido  Entregue_No_Prazo  \n",
              "count          200.000000              200.0  \n",
              "mean            33.080000                1.0  \n",
              "std             18.676393                0.0  \n",
              "min              1.000000                1.0  \n",
              "25%             17.000000                1.0  \n",
              "50%             34.500000                1.0  \n",
              "75%             49.000000                1.0  \n",
              "max             65.000000                1.0  "
            ],
            "text/html": [
              "\n",
              "  <div id=\"df-7d22ce8e-3199-4e14-be2a-17510cacab0b\" class=\"colab-df-container\">\n",
              "    <div>\n",
              "<style scoped>\n",
              "    .dataframe tbody tr th:only-of-type {\n",
              "        vertical-align: middle;\n",
              "    }\n",
              "\n",
              "    .dataframe tbody tr th {\n",
              "        vertical-align: top;\n",
              "    }\n",
              "\n",
              "    .dataframe thead th {\n",
              "        text-align: right;\n",
              "    }\n",
              "</style>\n",
              "<table border=\"1\" class=\"dataframe\">\n",
              "  <thead>\n",
              "    <tr style=\"text-align: right;\">\n",
              "      <th></th>\n",
              "      <th>ID</th>\n",
              "      <th>Qualid_Produto</th>\n",
              "      <th>Preço</th>\n",
              "      <th>Prazo_Entrega_Dias</th>\n",
              "      <th>Historico_Compras</th>\n",
              "      <th>Aval_Cliente_Confiab</th>\n",
              "      <th>Custo_Produto</th>\n",
              "      <th>Desconto_Oferecido</th>\n",
              "      <th>Entregue_No_Prazo</th>\n",
              "    </tr>\n",
              "  </thead>\n",
              "  <tbody>\n",
              "    <tr>\n",
              "      <th>count</th>\n",
              "      <td>200.000000</td>\n",
              "      <td>200.000000</td>\n",
              "      <td>200.000000</td>\n",
              "      <td>200.000000</td>\n",
              "      <td>200.000000</td>\n",
              "      <td>200.000000</td>\n",
              "      <td>200.000000</td>\n",
              "      <td>200.000000</td>\n",
              "      <td>200.0</td>\n",
              "    </tr>\n",
              "    <tr>\n",
              "      <th>mean</th>\n",
              "      <td>100.500000</td>\n",
              "      <td>8.192500</td>\n",
              "      <td>7.185000</td>\n",
              "      <td>6.465000</td>\n",
              "      <td>526.520000</td>\n",
              "      <td>8.197500</td>\n",
              "      <td>189.960000</td>\n",
              "      <td>33.080000</td>\n",
              "      <td>1.0</td>\n",
              "    </tr>\n",
              "    <tr>\n",
              "      <th>std</th>\n",
              "      <td>57.879185</td>\n",
              "      <td>0.671901</td>\n",
              "      <td>0.678659</td>\n",
              "      <td>1.247621</td>\n",
              "      <td>265.103696</td>\n",
              "      <td>0.677895</td>\n",
              "      <td>44.772439</td>\n",
              "      <td>18.676393</td>\n",
              "      <td>0.0</td>\n",
              "    </tr>\n",
              "    <tr>\n",
              "      <th>min</th>\n",
              "      <td>1.000000</td>\n",
              "      <td>7.000000</td>\n",
              "      <td>5.500000</td>\n",
              "      <td>3.000000</td>\n",
              "      <td>120.000000</td>\n",
              "      <td>7.000000</td>\n",
              "      <td>97.000000</td>\n",
              "      <td>1.000000</td>\n",
              "      <td>1.0</td>\n",
              "    </tr>\n",
              "    <tr>\n",
              "      <th>25%</th>\n",
              "      <td>50.750000</td>\n",
              "      <td>7.500000</td>\n",
              "      <td>6.500000</td>\n",
              "      <td>5.000000</td>\n",
              "      <td>320.000000</td>\n",
              "      <td>7.500000</td>\n",
              "      <td>150.750000</td>\n",
              "      <td>17.000000</td>\n",
              "      <td>1.0</td>\n",
              "    </tr>\n",
              "    <tr>\n",
              "      <th>50%</th>\n",
              "      <td>100.500000</td>\n",
              "      <td>8.500000</td>\n",
              "      <td>7.500000</td>\n",
              "      <td>6.000000</td>\n",
              "      <td>520.000000</td>\n",
              "      <td>8.500000</td>\n",
              "      <td>183.000000</td>\n",
              "      <td>34.500000</td>\n",
              "      <td>1.0</td>\n",
              "    </tr>\n",
              "    <tr>\n",
              "      <th>75%</th>\n",
              "      <td>150.250000</td>\n",
              "      <td>9.000000</td>\n",
              "      <td>8.000000</td>\n",
              "      <td>7.000000</td>\n",
              "      <td>740.000000</td>\n",
              "      <td>9.000000</td>\n",
              "      <td>227.000000</td>\n",
              "      <td>49.000000</td>\n",
              "      <td>1.0</td>\n",
              "    </tr>\n",
              "    <tr>\n",
              "      <th>max</th>\n",
              "      <td>200.000000</td>\n",
              "      <td>9.500000</td>\n",
              "      <td>8.500000</td>\n",
              "      <td>10.000000</td>\n",
              "      <td>940.000000</td>\n",
              "      <td>9.500000</td>\n",
              "      <td>286.000000</td>\n",
              "      <td>65.000000</td>\n",
              "      <td>1.0</td>\n",
              "    </tr>\n",
              "  </tbody>\n",
              "</table>\n",
              "</div>\n",
              "    <div class=\"colab-df-buttons\">\n",
              "\n",
              "  <div class=\"colab-df-container\">\n",
              "    <button class=\"colab-df-convert\" onclick=\"convertToInteractive('df-7d22ce8e-3199-4e14-be2a-17510cacab0b')\"\n",
              "            title=\"Convert this dataframe to an interactive table.\"\n",
              "            style=\"display:none;\">\n",
              "\n",
              "  <svg xmlns=\"http://www.w3.org/2000/svg\" height=\"24px\" viewBox=\"0 -960 960 960\">\n",
              "    <path d=\"M120-120v-720h720v720H120Zm60-500h600v-160H180v160Zm220 220h160v-160H400v160Zm0 220h160v-160H400v160ZM180-400h160v-160H180v160Zm440 0h160v-160H620v160ZM180-180h160v-160H180v160Zm440 0h160v-160H620v160Z\"/>\n",
              "  </svg>\n",
              "    </button>\n",
              "\n",
              "  <style>\n",
              "    .colab-df-container {\n",
              "      display:flex;\n",
              "      gap: 12px;\n",
              "    }\n",
              "\n",
              "    .colab-df-convert {\n",
              "      background-color: #E8F0FE;\n",
              "      border: none;\n",
              "      border-radius: 50%;\n",
              "      cursor: pointer;\n",
              "      display: none;\n",
              "      fill: #1967D2;\n",
              "      height: 32px;\n",
              "      padding: 0 0 0 0;\n",
              "      width: 32px;\n",
              "    }\n",
              "\n",
              "    .colab-df-convert:hover {\n",
              "      background-color: #E2EBFA;\n",
              "      box-shadow: 0px 1px 2px rgba(60, 64, 67, 0.3), 0px 1px 3px 1px rgba(60, 64, 67, 0.15);\n",
              "      fill: #174EA6;\n",
              "    }\n",
              "\n",
              "    .colab-df-buttons div {\n",
              "      margin-bottom: 4px;\n",
              "    }\n",
              "\n",
              "    [theme=dark] .colab-df-convert {\n",
              "      background-color: #3B4455;\n",
              "      fill: #D2E3FC;\n",
              "    }\n",
              "\n",
              "    [theme=dark] .colab-df-convert:hover {\n",
              "      background-color: #434B5C;\n",
              "      box-shadow: 0px 1px 3px 1px rgba(0, 0, 0, 0.15);\n",
              "      filter: drop-shadow(0px 1px 2px rgba(0, 0, 0, 0.3));\n",
              "      fill: #FFFFFF;\n",
              "    }\n",
              "  </style>\n",
              "\n",
              "    <script>\n",
              "      const buttonEl =\n",
              "        document.querySelector('#df-7d22ce8e-3199-4e14-be2a-17510cacab0b button.colab-df-convert');\n",
              "      buttonEl.style.display =\n",
              "        google.colab.kernel.accessAllowed ? 'block' : 'none';\n",
              "\n",
              "      async function convertToInteractive(key) {\n",
              "        const element = document.querySelector('#df-7d22ce8e-3199-4e14-be2a-17510cacab0b');\n",
              "        const dataTable =\n",
              "          await google.colab.kernel.invokeFunction('convertToInteractive',\n",
              "                                                    [key], {});\n",
              "        if (!dataTable) return;\n",
              "\n",
              "        const docLinkHtml = 'Like what you see? Visit the ' +\n",
              "          '<a target=\"_blank\" href=https://colab.research.google.com/notebooks/data_table.ipynb>data table notebook</a>'\n",
              "          + ' to learn more about interactive tables.';\n",
              "        element.innerHTML = '';\n",
              "        dataTable['output_type'] = 'display_data';\n",
              "        await google.colab.output.renderOutput(dataTable, element);\n",
              "        const docLink = document.createElement('div');\n",
              "        docLink.innerHTML = docLinkHtml;\n",
              "        element.appendChild(docLink);\n",
              "      }\n",
              "    </script>\n",
              "  </div>\n",
              "\n",
              "\n",
              "<div id=\"df-0b42583e-8ea8-4ae3-a6df-9bb2d1eea30c\">\n",
              "  <button class=\"colab-df-quickchart\" onclick=\"quickchart('df-0b42583e-8ea8-4ae3-a6df-9bb2d1eea30c')\"\n",
              "            title=\"Suggest charts\"\n",
              "            style=\"display:none;\">\n",
              "\n",
              "<svg xmlns=\"http://www.w3.org/2000/svg\" height=\"24px\"viewBox=\"0 0 24 24\"\n",
              "     width=\"24px\">\n",
              "    <g>\n",
              "        <path d=\"M19 3H5c-1.1 0-2 .9-2 2v14c0 1.1.9 2 2 2h14c1.1 0 2-.9 2-2V5c0-1.1-.9-2-2-2zM9 17H7v-7h2v7zm4 0h-2V7h2v10zm4 0h-2v-4h2v4z\"/>\n",
              "    </g>\n",
              "</svg>\n",
              "  </button>\n",
              "\n",
              "<style>\n",
              "  .colab-df-quickchart {\n",
              "      --bg-color: #E8F0FE;\n",
              "      --fill-color: #1967D2;\n",
              "      --hover-bg-color: #E2EBFA;\n",
              "      --hover-fill-color: #174EA6;\n",
              "      --disabled-fill-color: #AAA;\n",
              "      --disabled-bg-color: #DDD;\n",
              "  }\n",
              "\n",
              "  [theme=dark] .colab-df-quickchart {\n",
              "      --bg-color: #3B4455;\n",
              "      --fill-color: #D2E3FC;\n",
              "      --hover-bg-color: #434B5C;\n",
              "      --hover-fill-color: #FFFFFF;\n",
              "      --disabled-bg-color: #3B4455;\n",
              "      --disabled-fill-color: #666;\n",
              "  }\n",
              "\n",
              "  .colab-df-quickchart {\n",
              "    background-color: var(--bg-color);\n",
              "    border: none;\n",
              "    border-radius: 50%;\n",
              "    cursor: pointer;\n",
              "    display: none;\n",
              "    fill: var(--fill-color);\n",
              "    height: 32px;\n",
              "    padding: 0;\n",
              "    width: 32px;\n",
              "  }\n",
              "\n",
              "  .colab-df-quickchart:hover {\n",
              "    background-color: var(--hover-bg-color);\n",
              "    box-shadow: 0 1px 2px rgba(60, 64, 67, 0.3), 0 1px 3px 1px rgba(60, 64, 67, 0.15);\n",
              "    fill: var(--button-hover-fill-color);\n",
              "  }\n",
              "\n",
              "  .colab-df-quickchart-complete:disabled,\n",
              "  .colab-df-quickchart-complete:disabled:hover {\n",
              "    background-color: var(--disabled-bg-color);\n",
              "    fill: var(--disabled-fill-color);\n",
              "    box-shadow: none;\n",
              "  }\n",
              "\n",
              "  .colab-df-spinner {\n",
              "    border: 2px solid var(--fill-color);\n",
              "    border-color: transparent;\n",
              "    border-bottom-color: var(--fill-color);\n",
              "    animation:\n",
              "      spin 1s steps(1) infinite;\n",
              "  }\n",
              "\n",
              "  @keyframes spin {\n",
              "    0% {\n",
              "      border-color: transparent;\n",
              "      border-bottom-color: var(--fill-color);\n",
              "      border-left-color: var(--fill-color);\n",
              "    }\n",
              "    20% {\n",
              "      border-color: transparent;\n",
              "      border-left-color: var(--fill-color);\n",
              "      border-top-color: var(--fill-color);\n",
              "    }\n",
              "    30% {\n",
              "      border-color: transparent;\n",
              "      border-left-color: var(--fill-color);\n",
              "      border-top-color: var(--fill-color);\n",
              "      border-right-color: var(--fill-color);\n",
              "    }\n",
              "    40% {\n",
              "      border-color: transparent;\n",
              "      border-right-color: var(--fill-color);\n",
              "      border-top-color: var(--fill-color);\n",
              "    }\n",
              "    60% {\n",
              "      border-color: transparent;\n",
              "      border-right-color: var(--fill-color);\n",
              "    }\n",
              "    80% {\n",
              "      border-color: transparent;\n",
              "      border-right-color: var(--fill-color);\n",
              "      border-bottom-color: var(--fill-color);\n",
              "    }\n",
              "    90% {\n",
              "      border-color: transparent;\n",
              "      border-bottom-color: var(--fill-color);\n",
              "    }\n",
              "  }\n",
              "</style>\n",
              "\n",
              "  <script>\n",
              "    async function quickchart(key) {\n",
              "      const quickchartButtonEl =\n",
              "        document.querySelector('#' + key + ' button');\n",
              "      quickchartButtonEl.disabled = true;  // To prevent multiple clicks.\n",
              "      quickchartButtonEl.classList.add('colab-df-spinner');\n",
              "      try {\n",
              "        const charts = await google.colab.kernel.invokeFunction(\n",
              "            'suggestCharts', [key], {});\n",
              "      } catch (error) {\n",
              "        console.error('Error during call to suggestCharts:', error);\n",
              "      }\n",
              "      quickchartButtonEl.classList.remove('colab-df-spinner');\n",
              "      quickchartButtonEl.classList.add('colab-df-quickchart-complete');\n",
              "    }\n",
              "    (() => {\n",
              "      let quickchartButtonEl =\n",
              "        document.querySelector('#df-0b42583e-8ea8-4ae3-a6df-9bb2d1eea30c button');\n",
              "      quickchartButtonEl.style.display =\n",
              "        google.colab.kernel.accessAllowed ? 'block' : 'none';\n",
              "    })();\n",
              "  </script>\n",
              "</div>\n",
              "    </div>\n",
              "  </div>\n"
            ],
            "application/vnd.google.colaboratory.intrinsic+json": {
              "type": "dataframe",
              "summary": "{\n  \"name\": \"df\",\n  \"rows\": 8,\n  \"fields\": [\n    {\n      \"column\": \"ID\",\n      \"properties\": {\n        \"dtype\": \"number\",\n        \"std\": 71.77644232399086,\n        \"min\": 1.0,\n        \"max\": 200.0,\n        \"num_unique_values\": 6,\n        \"samples\": [\n          200.0,\n          100.5,\n          150.25\n        ],\n        \"semantic_type\": \"\",\n        \"description\": \"\"\n      }\n    },\n    {\n      \"column\": \"Qualid_Produto\",\n      \"properties\": {\n        \"dtype\": \"number\",\n        \"std\": 68.22340072339865,\n        \"min\": 0.6719010381188033,\n        \"max\": 200.0,\n        \"num_unique_values\": 8,\n        \"samples\": [\n          8.1925,\n          8.5,\n          200.0\n        ],\n        \"semantic_type\": \"\",\n        \"description\": \"\"\n      }\n    },\n    {\n      \"column\": \"Pre\\u00e7o\",\n      \"properties\": {\n        \"dtype\": \"number\",\n        \"std\": 68.53924765830575,\n        \"min\": 0.6786588903471583,\n        \"max\": 200.0,\n        \"num_unique_values\": 8,\n        \"samples\": [\n          7.185,\n          7.5,\n          200.0\n        ],\n        \"semantic_type\": \"\",\n        \"description\": \"\"\n      }\n    },\n    {\n      \"column\": \"Prazo_Entrega_Dias\",\n      \"properties\": {\n        \"dtype\": \"number\",\n        \"std\": 68.80551095408461,\n        \"min\": 1.247620851438739,\n        \"max\": 200.0,\n        \"num_unique_values\": 8,\n        \"samples\": [\n          6.465,\n          6.0,\n          200.0\n        ],\n        \"semantic_type\": \"\",\n        \"description\": \"\"\n      }\n    },\n    {\n      \"column\": \"Historico_Compras\",\n      \"properties\": {\n        \"dtype\": \"number\",\n        \"std\": 282.16432560186934,\n        \"min\": 120.0,\n        \"max\": 940.0,\n        \"num_unique_values\": 8,\n        \"samples\": [\n          526.52,\n          520.0,\n          200.0\n        ],\n        \"semantic_type\": \"\",\n        \"description\": \"\"\n      }\n    },\n    {\n      \"column\": \"Aval_Cliente_Confiab\",\n      \"properties\": {\n        \"dtype\": \"number\",\n        \"std\": 68.22277453110368,\n        \"min\": 0.6778948718543548,\n        \"max\": 200.0,\n        \"num_unique_values\": 8,\n        \"samples\": [\n          8.1975,\n          8.5,\n          200.0\n        ],\n        \"semantic_type\": \"\",\n        \"description\": \"\"\n      }\n    },\n    {\n      \"column\": \"Custo_Produto\",\n      \"properties\": {\n        \"dtype\": \"number\",\n        \"std\": 75.12960817580928,\n        \"min\": 44.77243857867703,\n        \"max\": 286.0,\n        \"num_unique_values\": 8,\n        \"samples\": [\n          189.96,\n          183.0,\n          200.0\n        ],\n        \"semantic_type\": \"\",\n        \"description\": \"\"\n      }\n    },\n    {\n      \"column\": \"Desconto_Oferecido\",\n      \"properties\": {\n        \"dtype\": \"number\",\n        \"std\": 62.88543188205409,\n        \"min\": 1.0,\n        \"max\": 200.0,\n        \"num_unique_values\": 8,\n        \"samples\": [\n          33.08,\n          34.5,\n          200.0\n        ],\n        \"semantic_type\": \"\",\n        \"description\": \"\"\n      }\n    },\n    {\n      \"column\": \"Entregue_No_Prazo\",\n      \"properties\": {\n        \"dtype\": \"number\",\n        \"std\": 70.40850192169368,\n        \"min\": 0.0,\n        \"max\": 200.0,\n        \"num_unique_values\": 3,\n        \"samples\": [\n          200.0,\n          1.0,\n          0.0\n        ],\n        \"semantic_type\": \"\",\n        \"description\": \"\"\n      }\n    }\n  ]\n}"
            }
          },
          "metadata": {},
          "execution_count": 8
        }
      ]
    },
    {
      "cell_type": "code",
      "source": [
        "df.info()"
      ],
      "metadata": {
        "colab": {
          "base_uri": "https://localhost:8080/"
        },
        "id": "mTZddz7DBrbY",
        "outputId": "e3f523e1-9348-44ac-ee6f-4b03978818ab"
      },
      "execution_count": null,
      "outputs": [
        {
          "output_type": "stream",
          "name": "stdout",
          "text": [
            "<class 'pandas.core.frame.DataFrame'>\n",
            "RangeIndex: 200 entries, 0 to 199\n",
            "Data columns (total 15 columns):\n",
            " #   Column                Non-Null Count  Dtype  \n",
            "---  ------                --------------  -----  \n",
            " 0   ID                    200 non-null    int64  \n",
            " 1   Fornecedor            200 non-null    object \n",
            " 2   Item                  200 non-null    object \n",
            " 3   Qualid_Produto        200 non-null    float64\n",
            " 4   Preço                 200 non-null    float64\n",
            " 5   Prazo_Entrega_Dias    200 non-null    int64  \n",
            " 6   Historico_Compras     200 non-null    int64  \n",
            " 7   Aval_Cliente_Confiab  200 non-null    float64\n",
            " 8   Capac_Producao        200 non-null    object \n",
            " 9   Sustentabilidade      200 non-null    object \n",
            " 10  Bloco_Armazem         200 non-null    object \n",
            " 11  Modo_Envio            200 non-null    object \n",
            " 12  Custo_Produto         200 non-null    int64  \n",
            " 13  Desconto_Oferecido    200 non-null    int64  \n",
            " 14  Entregue_No_Prazo     200 non-null    int64  \n",
            "dtypes: float64(3), int64(6), object(6)\n",
            "memory usage: 23.6+ KB\n"
          ]
        }
      ]
    },
    {
      "cell_type": "code",
      "source": [
        "df.head()"
      ],
      "metadata": {
        "colab": {
          "base_uri": "https://localhost:8080/",
          "height": 399
        },
        "id": "cTxZa9OCBuDm",
        "outputId": "a5ba83aa-a61a-4f8a-cb73-188c03af878d"
      },
      "execution_count": null,
      "outputs": [
        {
          "output_type": "execute_result",
          "data": {
            "text/plain": [
              "   ID               Fornecedor                           Item  Qualid_Produto  \\\n",
              "0   1  Ali Queen Hair Products        Kit de Barbear Clássico             8.5   \n",
              "1   2                    SARLA     Máquina de Barbear Premium             9.0   \n",
              "2   3         HJ Hair Products    Conjunto de Barbear Luxuoso             8.0   \n",
              "3   4           Ali Grace Hair  Espuma de Barbear Refrescante             7.0   \n",
              "4   5              Rosa Beauty  Loção Pós-Barba Revitalizante             8.5   \n",
              "\n",
              "   Preço  Prazo_Entrega_Dias  Historico_Compras  Aval_Cliente_Confiab  \\\n",
              "0    7.5                   5                120                   9.0   \n",
              "1    8.0                   7                320                   8.5   \n",
              "2    6.5                   6                520                   7.0   \n",
              "3    5.5                  10                740                   8.0   \n",
              "4    7.0                   8                940                   8.5   \n",
              "\n",
              "  Capac_Producao Sustentabilidade Bloco_Armazem Modo_Envio  Custo_Produto  \\\n",
              "0           Alta            Média             D        Voo            177   \n",
              "1          Média             Alta             F        Voo            216   \n",
              "2           Alta            Baixa             A        Voo            183   \n",
              "3          Média             Alta             B        Voo            176   \n",
              "4           Alta            Média             C        Voo            184   \n",
              "\n",
              "   Desconto_Oferecido  Entregue_No_Prazo  \n",
              "0                  44                  1  \n",
              "1                  59                  1  \n",
              "2                  48                  1  \n",
              "3                  10                  1  \n",
              "4                  46                  1  "
            ],
            "text/html": [
              "\n",
              "  <div id=\"df-f0c30d08-acb9-4c6c-ab5e-d25fd653274d\" class=\"colab-df-container\">\n",
              "    <div>\n",
              "<style scoped>\n",
              "    .dataframe tbody tr th:only-of-type {\n",
              "        vertical-align: middle;\n",
              "    }\n",
              "\n",
              "    .dataframe tbody tr th {\n",
              "        vertical-align: top;\n",
              "    }\n",
              "\n",
              "    .dataframe thead th {\n",
              "        text-align: right;\n",
              "    }\n",
              "</style>\n",
              "<table border=\"1\" class=\"dataframe\">\n",
              "  <thead>\n",
              "    <tr style=\"text-align: right;\">\n",
              "      <th></th>\n",
              "      <th>ID</th>\n",
              "      <th>Fornecedor</th>\n",
              "      <th>Item</th>\n",
              "      <th>Qualid_Produto</th>\n",
              "      <th>Preço</th>\n",
              "      <th>Prazo_Entrega_Dias</th>\n",
              "      <th>Historico_Compras</th>\n",
              "      <th>Aval_Cliente_Confiab</th>\n",
              "      <th>Capac_Producao</th>\n",
              "      <th>Sustentabilidade</th>\n",
              "      <th>Bloco_Armazem</th>\n",
              "      <th>Modo_Envio</th>\n",
              "      <th>Custo_Produto</th>\n",
              "      <th>Desconto_Oferecido</th>\n",
              "      <th>Entregue_No_Prazo</th>\n",
              "    </tr>\n",
              "  </thead>\n",
              "  <tbody>\n",
              "    <tr>\n",
              "      <th>0</th>\n",
              "      <td>1</td>\n",
              "      <td>Ali Queen Hair Products</td>\n",
              "      <td>Kit de Barbear Clássico</td>\n",
              "      <td>8.5</td>\n",
              "      <td>7.5</td>\n",
              "      <td>5</td>\n",
              "      <td>120</td>\n",
              "      <td>9.0</td>\n",
              "      <td>Alta</td>\n",
              "      <td>Média</td>\n",
              "      <td>D</td>\n",
              "      <td>Voo</td>\n",
              "      <td>177</td>\n",
              "      <td>44</td>\n",
              "      <td>1</td>\n",
              "    </tr>\n",
              "    <tr>\n",
              "      <th>1</th>\n",
              "      <td>2</td>\n",
              "      <td>SARLA</td>\n",
              "      <td>Máquina de Barbear Premium</td>\n",
              "      <td>9.0</td>\n",
              "      <td>8.0</td>\n",
              "      <td>7</td>\n",
              "      <td>320</td>\n",
              "      <td>8.5</td>\n",
              "      <td>Média</td>\n",
              "      <td>Alta</td>\n",
              "      <td>F</td>\n",
              "      <td>Voo</td>\n",
              "      <td>216</td>\n",
              "      <td>59</td>\n",
              "      <td>1</td>\n",
              "    </tr>\n",
              "    <tr>\n",
              "      <th>2</th>\n",
              "      <td>3</td>\n",
              "      <td>HJ Hair Products</td>\n",
              "      <td>Conjunto de Barbear Luxuoso</td>\n",
              "      <td>8.0</td>\n",
              "      <td>6.5</td>\n",
              "      <td>6</td>\n",
              "      <td>520</td>\n",
              "      <td>7.0</td>\n",
              "      <td>Alta</td>\n",
              "      <td>Baixa</td>\n",
              "      <td>A</td>\n",
              "      <td>Voo</td>\n",
              "      <td>183</td>\n",
              "      <td>48</td>\n",
              "      <td>1</td>\n",
              "    </tr>\n",
              "    <tr>\n",
              "      <th>3</th>\n",
              "      <td>4</td>\n",
              "      <td>Ali Grace Hair</td>\n",
              "      <td>Espuma de Barbear Refrescante</td>\n",
              "      <td>7.0</td>\n",
              "      <td>5.5</td>\n",
              "      <td>10</td>\n",
              "      <td>740</td>\n",
              "      <td>8.0</td>\n",
              "      <td>Média</td>\n",
              "      <td>Alta</td>\n",
              "      <td>B</td>\n",
              "      <td>Voo</td>\n",
              "      <td>176</td>\n",
              "      <td>10</td>\n",
              "      <td>1</td>\n",
              "    </tr>\n",
              "    <tr>\n",
              "      <th>4</th>\n",
              "      <td>5</td>\n",
              "      <td>Rosa Beauty</td>\n",
              "      <td>Loção Pós-Barba Revitalizante</td>\n",
              "      <td>8.5</td>\n",
              "      <td>7.0</td>\n",
              "      <td>8</td>\n",
              "      <td>940</td>\n",
              "      <td>8.5</td>\n",
              "      <td>Alta</td>\n",
              "      <td>Média</td>\n",
              "      <td>C</td>\n",
              "      <td>Voo</td>\n",
              "      <td>184</td>\n",
              "      <td>46</td>\n",
              "      <td>1</td>\n",
              "    </tr>\n",
              "  </tbody>\n",
              "</table>\n",
              "</div>\n",
              "    <div class=\"colab-df-buttons\">\n",
              "\n",
              "  <div class=\"colab-df-container\">\n",
              "    <button class=\"colab-df-convert\" onclick=\"convertToInteractive('df-f0c30d08-acb9-4c6c-ab5e-d25fd653274d')\"\n",
              "            title=\"Convert this dataframe to an interactive table.\"\n",
              "            style=\"display:none;\">\n",
              "\n",
              "  <svg xmlns=\"http://www.w3.org/2000/svg\" height=\"24px\" viewBox=\"0 -960 960 960\">\n",
              "    <path d=\"M120-120v-720h720v720H120Zm60-500h600v-160H180v160Zm220 220h160v-160H400v160Zm0 220h160v-160H400v160ZM180-400h160v-160H180v160Zm440 0h160v-160H620v160ZM180-180h160v-160H180v160Zm440 0h160v-160H620v160Z\"/>\n",
              "  </svg>\n",
              "    </button>\n",
              "\n",
              "  <style>\n",
              "    .colab-df-container {\n",
              "      display:flex;\n",
              "      gap: 12px;\n",
              "    }\n",
              "\n",
              "    .colab-df-convert {\n",
              "      background-color: #E8F0FE;\n",
              "      border: none;\n",
              "      border-radius: 50%;\n",
              "      cursor: pointer;\n",
              "      display: none;\n",
              "      fill: #1967D2;\n",
              "      height: 32px;\n",
              "      padding: 0 0 0 0;\n",
              "      width: 32px;\n",
              "    }\n",
              "\n",
              "    .colab-df-convert:hover {\n",
              "      background-color: #E2EBFA;\n",
              "      box-shadow: 0px 1px 2px rgba(60, 64, 67, 0.3), 0px 1px 3px 1px rgba(60, 64, 67, 0.15);\n",
              "      fill: #174EA6;\n",
              "    }\n",
              "\n",
              "    .colab-df-buttons div {\n",
              "      margin-bottom: 4px;\n",
              "    }\n",
              "\n",
              "    [theme=dark] .colab-df-convert {\n",
              "      background-color: #3B4455;\n",
              "      fill: #D2E3FC;\n",
              "    }\n",
              "\n",
              "    [theme=dark] .colab-df-convert:hover {\n",
              "      background-color: #434B5C;\n",
              "      box-shadow: 0px 1px 3px 1px rgba(0, 0, 0, 0.15);\n",
              "      filter: drop-shadow(0px 1px 2px rgba(0, 0, 0, 0.3));\n",
              "      fill: #FFFFFF;\n",
              "    }\n",
              "  </style>\n",
              "\n",
              "    <script>\n",
              "      const buttonEl =\n",
              "        document.querySelector('#df-f0c30d08-acb9-4c6c-ab5e-d25fd653274d button.colab-df-convert');\n",
              "      buttonEl.style.display =\n",
              "        google.colab.kernel.accessAllowed ? 'block' : 'none';\n",
              "\n",
              "      async function convertToInteractive(key) {\n",
              "        const element = document.querySelector('#df-f0c30d08-acb9-4c6c-ab5e-d25fd653274d');\n",
              "        const dataTable =\n",
              "          await google.colab.kernel.invokeFunction('convertToInteractive',\n",
              "                                                    [key], {});\n",
              "        if (!dataTable) return;\n",
              "\n",
              "        const docLinkHtml = 'Like what you see? Visit the ' +\n",
              "          '<a target=\"_blank\" href=https://colab.research.google.com/notebooks/data_table.ipynb>data table notebook</a>'\n",
              "          + ' to learn more about interactive tables.';\n",
              "        element.innerHTML = '';\n",
              "        dataTable['output_type'] = 'display_data';\n",
              "        await google.colab.output.renderOutput(dataTable, element);\n",
              "        const docLink = document.createElement('div');\n",
              "        docLink.innerHTML = docLinkHtml;\n",
              "        element.appendChild(docLink);\n",
              "      }\n",
              "    </script>\n",
              "  </div>\n",
              "\n",
              "\n",
              "<div id=\"df-16e91ec6-6084-4405-8675-61939ca60e65\">\n",
              "  <button class=\"colab-df-quickchart\" onclick=\"quickchart('df-16e91ec6-6084-4405-8675-61939ca60e65')\"\n",
              "            title=\"Suggest charts\"\n",
              "            style=\"display:none;\">\n",
              "\n",
              "<svg xmlns=\"http://www.w3.org/2000/svg\" height=\"24px\"viewBox=\"0 0 24 24\"\n",
              "     width=\"24px\">\n",
              "    <g>\n",
              "        <path d=\"M19 3H5c-1.1 0-2 .9-2 2v14c0 1.1.9 2 2 2h14c1.1 0 2-.9 2-2V5c0-1.1-.9-2-2-2zM9 17H7v-7h2v7zm4 0h-2V7h2v10zm4 0h-2v-4h2v4z\"/>\n",
              "    </g>\n",
              "</svg>\n",
              "  </button>\n",
              "\n",
              "<style>\n",
              "  .colab-df-quickchart {\n",
              "      --bg-color: #E8F0FE;\n",
              "      --fill-color: #1967D2;\n",
              "      --hover-bg-color: #E2EBFA;\n",
              "      --hover-fill-color: #174EA6;\n",
              "      --disabled-fill-color: #AAA;\n",
              "      --disabled-bg-color: #DDD;\n",
              "  }\n",
              "\n",
              "  [theme=dark] .colab-df-quickchart {\n",
              "      --bg-color: #3B4455;\n",
              "      --fill-color: #D2E3FC;\n",
              "      --hover-bg-color: #434B5C;\n",
              "      --hover-fill-color: #FFFFFF;\n",
              "      --disabled-bg-color: #3B4455;\n",
              "      --disabled-fill-color: #666;\n",
              "  }\n",
              "\n",
              "  .colab-df-quickchart {\n",
              "    background-color: var(--bg-color);\n",
              "    border: none;\n",
              "    border-radius: 50%;\n",
              "    cursor: pointer;\n",
              "    display: none;\n",
              "    fill: var(--fill-color);\n",
              "    height: 32px;\n",
              "    padding: 0;\n",
              "    width: 32px;\n",
              "  }\n",
              "\n",
              "  .colab-df-quickchart:hover {\n",
              "    background-color: var(--hover-bg-color);\n",
              "    box-shadow: 0 1px 2px rgba(60, 64, 67, 0.3), 0 1px 3px 1px rgba(60, 64, 67, 0.15);\n",
              "    fill: var(--button-hover-fill-color);\n",
              "  }\n",
              "\n",
              "  .colab-df-quickchart-complete:disabled,\n",
              "  .colab-df-quickchart-complete:disabled:hover {\n",
              "    background-color: var(--disabled-bg-color);\n",
              "    fill: var(--disabled-fill-color);\n",
              "    box-shadow: none;\n",
              "  }\n",
              "\n",
              "  .colab-df-spinner {\n",
              "    border: 2px solid var(--fill-color);\n",
              "    border-color: transparent;\n",
              "    border-bottom-color: var(--fill-color);\n",
              "    animation:\n",
              "      spin 1s steps(1) infinite;\n",
              "  }\n",
              "\n",
              "  @keyframes spin {\n",
              "    0% {\n",
              "      border-color: transparent;\n",
              "      border-bottom-color: var(--fill-color);\n",
              "      border-left-color: var(--fill-color);\n",
              "    }\n",
              "    20% {\n",
              "      border-color: transparent;\n",
              "      border-left-color: var(--fill-color);\n",
              "      border-top-color: var(--fill-color);\n",
              "    }\n",
              "    30% {\n",
              "      border-color: transparent;\n",
              "      border-left-color: var(--fill-color);\n",
              "      border-top-color: var(--fill-color);\n",
              "      border-right-color: var(--fill-color);\n",
              "    }\n",
              "    40% {\n",
              "      border-color: transparent;\n",
              "      border-right-color: var(--fill-color);\n",
              "      border-top-color: var(--fill-color);\n",
              "    }\n",
              "    60% {\n",
              "      border-color: transparent;\n",
              "      border-right-color: var(--fill-color);\n",
              "    }\n",
              "    80% {\n",
              "      border-color: transparent;\n",
              "      border-right-color: var(--fill-color);\n",
              "      border-bottom-color: var(--fill-color);\n",
              "    }\n",
              "    90% {\n",
              "      border-color: transparent;\n",
              "      border-bottom-color: var(--fill-color);\n",
              "    }\n",
              "  }\n",
              "</style>\n",
              "\n",
              "  <script>\n",
              "    async function quickchart(key) {\n",
              "      const quickchartButtonEl =\n",
              "        document.querySelector('#' + key + ' button');\n",
              "      quickchartButtonEl.disabled = true;  // To prevent multiple clicks.\n",
              "      quickchartButtonEl.classList.add('colab-df-spinner');\n",
              "      try {\n",
              "        const charts = await google.colab.kernel.invokeFunction(\n",
              "            'suggestCharts', [key], {});\n",
              "      } catch (error) {\n",
              "        console.error('Error during call to suggestCharts:', error);\n",
              "      }\n",
              "      quickchartButtonEl.classList.remove('colab-df-spinner');\n",
              "      quickchartButtonEl.classList.add('colab-df-quickchart-complete');\n",
              "    }\n",
              "    (() => {\n",
              "      let quickchartButtonEl =\n",
              "        document.querySelector('#df-16e91ec6-6084-4405-8675-61939ca60e65 button');\n",
              "      quickchartButtonEl.style.display =\n",
              "        google.colab.kernel.accessAllowed ? 'block' : 'none';\n",
              "    })();\n",
              "  </script>\n",
              "</div>\n",
              "    </div>\n",
              "  </div>\n"
            ],
            "application/vnd.google.colaboratory.intrinsic+json": {
              "type": "dataframe",
              "variable_name": "df",
              "summary": "{\n  \"name\": \"df\",\n  \"rows\": 200,\n  \"fields\": [\n    {\n      \"column\": \"ID\",\n      \"properties\": {\n        \"dtype\": \"number\",\n        \"std\": 57,\n        \"min\": 1,\n        \"max\": 200,\n        \"num_unique_values\": 200,\n        \"samples\": [\n          96,\n          16,\n          31\n        ],\n        \"semantic_type\": \"\",\n        \"description\": \"\"\n      }\n    },\n    {\n      \"column\": \"Fornecedor\",\n      \"properties\": {\n        \"dtype\": \"category\",\n        \"num_unique_values\": 33,\n        \"samples\": [\n          \"Miss Cara\",\n          \"Dolago\",\n          \"Cexxy\"\n        ],\n        \"semantic_type\": \"\",\n        \"description\": \"\"\n      }\n    },\n    {\n      \"column\": \"Item\",\n      \"properties\": {\n        \"dtype\": \"category\",\n        \"num_unique_values\": 62,\n        \"samples\": [\n          \"M\\u00e1quina de Barbear de Precis\\u00e3o\",\n          \"Conjunto de Barbear Cl\\u00e1ssico\",\n          \"Kit de Barbear Cl\\u00e1ssico\"\n        ],\n        \"semantic_type\": \"\",\n        \"description\": \"\"\n      }\n    },\n    {\n      \"column\": \"Qualid_Produto\",\n      \"properties\": {\n        \"dtype\": \"number\",\n        \"std\": 0.6719010381188033,\n        \"min\": 7.0,\n        \"max\": 9.5,\n        \"num_unique_values\": 6,\n        \"samples\": [\n          8.5,\n          9.0,\n          7.5\n        ],\n        \"semantic_type\": \"\",\n        \"description\": \"\"\n      }\n    },\n    {\n      \"column\": \"Pre\\u00e7o\",\n      \"properties\": {\n        \"dtype\": \"number\",\n        \"std\": 0.6786588903471583,\n        \"min\": 5.5,\n        \"max\": 8.5,\n        \"num_unique_values\": 7,\n        \"samples\": [\n          7.5,\n          8.0,\n          8.5\n        ],\n        \"semantic_type\": \"\",\n        \"description\": \"\"\n      }\n    },\n    {\n      \"column\": \"Prazo_Entrega_Dias\",\n      \"properties\": {\n        \"dtype\": \"number\",\n        \"std\": 1,\n        \"min\": 3,\n        \"max\": 10,\n        \"num_unique_values\": 7,\n        \"samples\": [\n          5,\n          7,\n          3\n        ],\n        \"semantic_type\": \"\",\n        \"description\": \"\"\n      }\n    },\n    {\n      \"column\": \"Historico_Compras\",\n      \"properties\": {\n        \"dtype\": \"number\",\n        \"std\": 265,\n        \"min\": 120,\n        \"max\": 940,\n        \"num_unique_values\": 18,\n        \"samples\": [\n          120,\n          320,\n          190\n        ],\n        \"semantic_type\": \"\",\n        \"description\": \"\"\n      }\n    },\n    {\n      \"column\": \"Aval_Cliente_Confiab\",\n      \"properties\": {\n        \"dtype\": \"number\",\n        \"std\": 0.6778948718543548,\n        \"min\": 7.0,\n        \"max\": 9.5,\n        \"num_unique_values\": 6,\n        \"samples\": [\n          9.0,\n          8.5,\n          7.5\n        ],\n        \"semantic_type\": \"\",\n        \"description\": \"\"\n      }\n    },\n    {\n      \"column\": \"Capac_Producao\",\n      \"properties\": {\n        \"dtype\": \"category\",\n        \"num_unique_values\": 2,\n        \"samples\": [\n          \"M\\u00e9dia\",\n          \"Alta\"\n        ],\n        \"semantic_type\": \"\",\n        \"description\": \"\"\n      }\n    },\n    {\n      \"column\": \"Sustentabilidade\",\n      \"properties\": {\n        \"dtype\": \"category\",\n        \"num_unique_values\": 3,\n        \"samples\": [\n          \"M\\u00e9dia\",\n          \"Alta\"\n        ],\n        \"semantic_type\": \"\",\n        \"description\": \"\"\n      }\n    },\n    {\n      \"column\": \"Bloco_Armazem\",\n      \"properties\": {\n        \"dtype\": \"category\",\n        \"num_unique_values\": 5,\n        \"samples\": [\n          \"F\",\n          \"C\"\n        ],\n        \"semantic_type\": \"\",\n        \"description\": \"\"\n      }\n    },\n    {\n      \"column\": \"Modo_Envio\",\n      \"properties\": {\n        \"dtype\": \"category\",\n        \"num_unique_values\": 3,\n        \"samples\": [\n          \"Voo\",\n          \"Navio\"\n        ],\n        \"semantic_type\": \"\",\n        \"description\": \"\"\n      }\n    },\n    {\n      \"column\": \"Custo_Produto\",\n      \"properties\": {\n        \"dtype\": \"number\",\n        \"std\": 44,\n        \"min\": 97,\n        \"max\": 286,\n        \"num_unique_values\": 116,\n        \"samples\": [\n          147,\n          184\n        ],\n        \"semantic_type\": \"\",\n        \"description\": \"\"\n      }\n    },\n    {\n      \"column\": \"Desconto_Oferecido\",\n      \"properties\": {\n        \"dtype\": \"number\",\n        \"std\": 18,\n        \"min\": 1,\n        \"max\": 65,\n        \"num_unique_values\": 65,\n        \"samples\": [\n          25,\n          34\n        ],\n        \"semantic_type\": \"\",\n        \"description\": \"\"\n      }\n    },\n    {\n      \"column\": \"Entregue_No_Prazo\",\n      \"properties\": {\n        \"dtype\": \"number\",\n        \"std\": 0,\n        \"min\": 1,\n        \"max\": 1,\n        \"num_unique_values\": 1,\n        \"samples\": [\n          1\n        ],\n        \"semantic_type\": \"\",\n        \"description\": \"\"\n      }\n    }\n  ]\n}"
            }
          },
          "metadata": {},
          "execution_count": 10
        }
      ]
    },
    {
      "cell_type": "code",
      "source": [
        "# PConverter colunas categóricas para numéricas\n",
        "# Identificar valores únicos nas colunas 'Fornecedor' e 'Item'\n",
        "fornecedores_unicos = df['Fornecedor'].unique()\n",
        "itens_unicos = df['Item'].unique()\n",
        "\n",
        "# Criar mapeamentos de cada valor único para um número inteiro\n",
        "fornecedor_mapping = {fornecedor: idx for idx, fornecedor in enumerate(fornecedores_unicos)}\n",
        "item_mapping = {item: idx for idx, item in enumerate(itens_unicos)}\n",
        "\n",
        "# Aplicar os mapeamentos para converter as colunas\n",
        "df['Fornecedor'] = df['Fornecedor'].map(fornecedor_mapping)\n",
        "df['Item'] = df['Item'].map(item_mapping)\n",
        "\n",
        "# Mostrar as primeiras linhas do DataFrame para verificar a conversão\n",
        "print(df.head())\n"
      ],
      "metadata": {
        "colab": {
          "base_uri": "https://localhost:8080/"
        },
        "id": "g36fLhAMw7vT",
        "outputId": "c5af7a00-8a83-4a6e-cc8c-7bc9fa98312c"
      },
      "execution_count": null,
      "outputs": [
        {
          "output_type": "stream",
          "name": "stdout",
          "text": [
            "   ID  Fornecedor  Item  Qualid_Produto  Preço  Prazo_Entrega_Dias  \\\n",
            "0   1           0     0             8.5    7.5                   5   \n",
            "1   2           1     1             9.0    8.0                   7   \n",
            "2   3           2     2             8.0    6.5                   6   \n",
            "3   4           3     3             7.0    5.5                  10   \n",
            "4   5           4     4             8.5    7.0                   8   \n",
            "\n",
            "   Historico_Compras  Aval_Cliente_Confiab Capac_Producao Sustentabilidade  \\\n",
            "0                120                   9.0           Alta            Média   \n",
            "1                320                   8.5          Média             Alta   \n",
            "2                520                   7.0           Alta            Baixa   \n",
            "3                740                   8.0          Média             Alta   \n",
            "4                940                   8.5           Alta            Média   \n",
            "\n",
            "  Bloco_Armazem Modo_Envio  Custo_Produto  Desconto_Oferecido  \\\n",
            "0             D        Voo            177                  44   \n",
            "1             F        Voo            216                  59   \n",
            "2             A        Voo            183                  48   \n",
            "3             B        Voo            176                  10   \n",
            "4             C        Voo            184                  46   \n",
            "\n",
            "   Entregue_No_Prazo  \n",
            "0                  1  \n",
            "1                  1  \n",
            "2                  1  \n",
            "3                  1  \n",
            "4                  1  \n"
          ]
        }
      ]
    },
    {
      "cell_type": "code",
      "source": [
        "df.info()"
      ],
      "metadata": {
        "id": "MvEhdcrAxL53",
        "colab": {
          "base_uri": "https://localhost:8080/"
        },
        "outputId": "f2ca870f-24ce-41ce-ff13-6eaf38ebe262"
      },
      "execution_count": null,
      "outputs": [
        {
          "output_type": "stream",
          "name": "stdout",
          "text": [
            "<class 'pandas.core.frame.DataFrame'>\n",
            "RangeIndex: 200 entries, 0 to 199\n",
            "Data columns (total 15 columns):\n",
            " #   Column                Non-Null Count  Dtype  \n",
            "---  ------                --------------  -----  \n",
            " 0   ID                    200 non-null    int64  \n",
            " 1   Fornecedor            200 non-null    int64  \n",
            " 2   Item                  200 non-null    int64  \n",
            " 3   Qualid_Produto        200 non-null    float64\n",
            " 4   Preço                 200 non-null    float64\n",
            " 5   Prazo_Entrega_Dias    200 non-null    int64  \n",
            " 6   Historico_Compras     200 non-null    int64  \n",
            " 7   Aval_Cliente_Confiab  200 non-null    float64\n",
            " 8   Capac_Producao        200 non-null    object \n",
            " 9   Sustentabilidade      200 non-null    object \n",
            " 10  Bloco_Armazem         200 non-null    object \n",
            " 11  Modo_Envio            200 non-null    object \n",
            " 12  Custo_Produto         200 non-null    int64  \n",
            " 13  Desconto_Oferecido    200 non-null    int64  \n",
            " 14  Entregue_No_Prazo     200 non-null    int64  \n",
            "dtypes: float64(3), int64(8), object(4)\n",
            "memory usage: 23.6+ KB\n"
          ]
        }
      ]
    },
    {
      "cell_type": "code",
      "source": [
        "# Selecionando algumas variáveis e plotando a matriz de correlação\n",
        "df = df[['Aval_Cliente_Confiab','Custo_Produto','Prazo_Entrega_Dias','Preço','Qualid_Produto']]\n",
        "ax = sns.heatmap(df.corr(), annot=True)"
      ],
      "metadata": {
        "id": "C652FK92B043",
        "colab": {
          "base_uri": "https://localhost:8080/",
          "height": 642
        },
        "outputId": "0a5d2c08-8be1-417c-eb79-bacac489edb7"
      },
      "execution_count": null,
      "outputs": [
        {
          "output_type": "display_data",
          "data": {
            "text/plain": [
              "<Figure size 640x480 with 2 Axes>"
            ],
            "image/png": "[encoded data removed]"
          },
          "metadata": {}
        }
      ]
    },
    {
      "cell_type": "code",
      "source": [
        "\n",
        "plt.title('Relação entre a variavel X e Y')\n",
        "plt.scatter(x=df['Aval_Cliente_Confiab'], y=df['Preço'])\n",
        "plt.show()"
      ],
      "metadata": {
        "id": "DM7cmdkUyIjB",
        "colab": {
          "base_uri": "https://localhost:8080/",
          "height": 479
        },
        "outputId": "79f1b084-3ccd-4876-a5fb-e118c6372e64"
      },
      "execution_count": null,
      "outputs": [
        {
          "output_type": "display_data",
          "data": {
            "text/plain": [
              "<Figure size 640x480 with 1 Axes>"
            ],
            "image/png": "[encoded data removed]"
          },
          "metadata": {}
        }
      ]
    },
    {
      "cell_type": "code",
      "source": [
        "\n",
        "plt.title('Relação entre a variavel X e Y')\n",
        "plt.scatter(x=df['Qualid_Produto'], y=df['Preço'])\n",
        "plt.show()"
      ],
      "metadata": {
        "colab": {
          "base_uri": "https://localhost:8080/",
          "height": 479
        },
        "id": "VkFkkM9-Ox7x",
        "outputId": "3ea031ed-0565-49cd-baa3-bd6124b1ebf7"
      },
      "execution_count": null,
      "outputs": [
        {
          "output_type": "display_data",
          "data": {
            "text/plain": [
              "<Figure size 640x480 with 1 Axes>"
            ],
            "image/png": "[encoded data removed]"
          },
          "metadata": {}
        }
      ]
    },
    {
      "cell_type": "code",
      "source": [
        "fig,ax = plt.subplots(2,2, figsize=(20,20))\n",
        "sns.scatterplot(x='Aval_Cliente_Confiab',y='Preço',data = df,ax=ax[0][0]);\n",
        "sns.scatterplot(x='Qualid_Produto',y='Preço',data = df,ax=ax[0][1]);\n",
        "sns.scatterplot(x='Custo_Produto',y='Preço',data = df,ax=ax[1][0]);\n",
        "sns.scatterplot(x='Prazo_Entrega_Dias',y='Preço',data = df,ax=ax[1][1]);"
      ],
      "metadata": {
        "id": "7m-uEGr9E2ou",
        "colab": {
          "base_uri": "https://localhost:8080/",
          "height": 1000
        },
        "outputId": "b27f295e-838e-4925-8a7a-c009ae4c80e9"
      },
      "execution_count": null,
      "outputs": [
        {
          "output_type": "display_data",
          "data": {
            "text/plain": [
              "<Figure size 2000x2000 with 4 Axes>"
            ],
            "image/png": "[encoded data removed]"
          },
          "metadata": {}
        }
      ]
    },
    {
      "cell_type": "code",
      "source": [
        "df.info()"
      ],
      "metadata": {
        "id": "xthG0EvmG977",
        "colab": {
          "base_uri": "https://localhost:8080/"
        },
        "outputId": "fa279e4e-e1e4-4553-8be6-770713428de7"
      },
      "execution_count": null,
      "outputs": [
        {
          "output_type": "stream",
          "name": "stdout",
          "text": [
            "<class 'pandas.core.frame.DataFrame'>\n",
            "RangeIndex: 200 entries, 0 to 199\n",
            "Data columns (total 5 columns):\n",
            " #   Column                Non-Null Count  Dtype  \n",
            "---  ------                --------------  -----  \n",
            " 0   Aval_Cliente_Confiab  200 non-null    float64\n",
            " 1   Custo_Produto         200 non-null    int64  \n",
            " 2   Prazo_Entrega_Dias    200 non-null    int64  \n",
            " 3   Preço                 200 non-null    float64\n",
            " 4   Qualid_Produto        200 non-null    float64\n",
            "dtypes: float64(3), int64(2)\n",
            "memory usage: 7.9 KB\n"
          ]
        }
      ]
    },
    {
      "cell_type": "code",
      "source": [
        "# Criando x e y\n",
        "# Cria o dataset. Criamos em formato de array\n",
        "x = np.array(df[['Aval_Cliente_Confiab','Custo_Produto','Prazo_Entrega_Dias','Qualid_Produto']])\n",
        "y = np.array(df['Preço'])"
      ],
      "metadata": {
        "id": "-dOSe2XrHDDA"
      },
      "execution_count": null,
      "outputs": []
    },
    {
      "cell_type": "code",
      "source": [
        "x"
      ],
      "metadata": {
        "id": "zkwEh3H1HPmQ",
        "colab": {
          "base_uri": "https://localhost:8080/"
        },
        "outputId": "218f5955-b52c-456c-fe7c-2c2d86e10f65"
      },
      "execution_count": null,
      "outputs": [
        {
          "output_type": "execute_result",
          "data": {
            "text/plain": [
              "array([[  9. , 177. ,   5. ,   8.5],\n",
              "       [  8.5, 216. ,   7. ,   9. ],\n",
              "       [  7. , 183. ,   6. ,   8. ],\n",
              "       [  8. , 176. ,  10. ,   7. ],\n",
              "       [  8.5, 184. ,   8. ,   8.5],\n",
              "       [  9.5, 162. ,   3. ,   9.5],\n",
              "       [  7.5, 250. ,   7. ,   7.5],\n",
              "       [  8. , 233. ,   6. ,   8. ],\n",
              "       [  9. , 150. ,   5. ,   8.5],\n",
              "       [  9.5, 164. ,   8. ,   9. ],\n",
              "       [  7. , 189. ,  10. ,   7. ],\n",
              "       [  8.5, 232. ,   4. ,   8.5],\n",
              "       [  9. , 198. ,   6. ,   9. ],\n",
              "       [  7.5, 275. ,   7. ,   7.5],\n",
              "       [  8. , 152. ,   5. ,   8. ],\n",
              "       [  8.5, 227. ,   6. ,   8.5],\n",
              "       [  9. , 143. ,   8. ,   9. ],\n",
              "       [  7.5, 227. ,   5. ,   7.5],\n",
              "       [  8. , 239. ,   4. ,   8. ],\n",
              "       [  8.5, 145. ,   6. ,   8.5],\n",
              "       [  9. , 161. ,   7. ,   9. ],\n",
              "       [  7.5, 232. ,  10. ,   7.5],\n",
              "       [  8. , 156. ,   5. ,   8. ],\n",
              "       [  8.5, 211. ,   4. ,   8.5],\n",
              "       [  9. , 251. ,   6. ,   9. ],\n",
              "       [  7. , 225. ,   7. ,   7. ],\n",
              "       [  8.5, 172. ,   8. ,   8.5],\n",
              "       [  9. , 162. ,   5. ,   9. ],\n",
              "       [  7.5, 234. ,   6. ,   7.5],\n",
              "       [  8. , 183. ,   7. ,   8. ],\n",
              "       [  8.5, 266. ,   6. ,   8.5],\n",
              "       [  9. , 257. ,   5. ,   9. ],\n",
              "       [  7.5, 223. ,   7. ,   7.5],\n",
              "       [  8. , 234. ,   8. ,   8. ],\n",
              "       [  8.5, 227. ,   5. ,   8.5],\n",
              "       [  9. , 149. ,   6. ,   9. ],\n",
              "       [  7. , 137. ,   7. ,   7. ],\n",
              "       [  8. , 181. ,   4. ,   8. ],\n",
              "       [  8.5, 215. ,   6. ,   8.5],\n",
              "       [  9. , 269. ,   5. ,   9. ],\n",
              "       [  7.5, 227. ,   7. ,   7.5],\n",
              "       [  8. , 139. ,   8. ,   8. ],\n",
              "       [  8.5, 137. ,   5. ,   8.5],\n",
              "       [  9. , 174. ,   6. ,   9. ],\n",
              "       [  7. , 151. ,   7. ,   7. ],\n",
              "       [  8. , 210. ,   8. ,   8. ],\n",
              "       [  8.5, 169. ,   5. ,   8.5],\n",
              "       [  9. , 160. ,   6. ,   9. ],\n",
              "       [  7.5, 190. ,   7. ,   7.5],\n",
              "       [  8. , 216. ,   8. ,   8. ],\n",
              "       [  8.5, 183. ,   5. ,   8.5],\n",
              "       [  9. , 141. ,   6. ,   9. ],\n",
              "       [  7. , 165. ,   7. ,   7. ],\n",
              "       [  8. , 170. ,   8. ,   8. ],\n",
              "       [  8.5, 203. ,   5. ,   8.5],\n",
              "       [  9. , 246. ,   6. ,   9. ],\n",
              "       [  7.5, 238. ,   7. ,   7.5],\n",
              "       [  8. , 193. ,   8. ,   8. ],\n",
              "       [  8.5, 141. ,   5. ,   8.5],\n",
              "       [  9. , 150. ,   6. ,   9. ],\n",
              "       [  8.5, 221. ,   6. ,   8.5],\n",
              "       [  9. , 179. ,   7. ,   9. ],\n",
              "       [  7.5, 105. ,   8. ,   7.5],\n",
              "       [  8. , 177. ,   5. ,   8. ],\n",
              "       [  8.5, 261. ,   6. ,   8.5],\n",
              "       [  9. , 202. ,   8. ,   9. ],\n",
              "       [  7. , 109. ,   7. ,   7. ],\n",
              "       [  8. , 158. ,   6. ,   8. ],\n",
              "       [  8.5, 231. ,   5. ,   8.5],\n",
              "       [  9. , 206. ,   7. ,   9. ],\n",
              "       [  7. , 187. ,   8. ,   7. ],\n",
              "       [  8. , 230. ,   5. ,   8. ],\n",
              "       [  8.5, 232. ,   6. ,   8.5],\n",
              "       [  9. , 215. ,   7. ,   9. ],\n",
              "       [  7.5, 238. ,   8. ,   7.5],\n",
              "       [  8. , 266. ,   5. ,   8. ],\n",
              "       [  8.5, 158. ,   6. ,   8.5],\n",
              "       [  9. , 113. ,   7. ,   9. ],\n",
              "       [  7. , 223. ,   8. ,   7. ],\n",
              "       [  8. , 257. ,   5. ,   8. ],\n",
              "       [  8.5, 180. ,   6. ,   8.5],\n",
              "       [  9. , 132. ,   7. ,   9. ],\n",
              "       [  7.5, 217. ,   8. ,   7.5],\n",
              "       [  8. , 162. ,   5. ,   8. ],\n",
              "       [  8.5, 197. ,   6. ,   8.5],\n",
              "       [  9. , 197. ,   7. ,   9. ],\n",
              "       [  7. , 185. ,   8. ,   7. ],\n",
              "       [  8. , 278. ,   5. ,   8. ],\n",
              "       [  8.5, 229. ,   6. ,   8.5],\n",
              "       [  9. , 186. ,   7. ,   9. ],\n",
              "       [  7.5, 174. ,   8. ,   7.5],\n",
              "       [  8. , 286. ,   5. ,   8. ],\n",
              "       [  8.5, 175. ,   6. ,   8.5],\n",
              "       [  9. , 219. ,   7. ,   9. ],\n",
              "       [  7. , 213. ,   8. ,   7. ],\n",
              "       [  8. , 235. ,   5. ,   8. ],\n",
              "       [  8.5, 149. ,   6. ,   8.5],\n",
              "       [  9. , 271. ,   7. ,   9. ],\n",
              "       [  7.5, 144. ,   8. ,   7.5],\n",
              "       [  7. , 145. ,   8. ,   7. ],\n",
              "       [  8.5, 143. ,   6. ,   8.5],\n",
              "       [  9. , 227. ,   7. ,   9. ],\n",
              "       [  7. , 213. ,   8. ,   7. ],\n",
              "       [  8. , 144. ,   5. ,   8. ],\n",
              "       [  8.5, 218. ,   6. ,   8.5],\n",
              "       [  9. , 144. ,   7. ,   9. ],\n",
              "       [  7.5, 238. ,   8. ,   7.5],\n",
              "       [  8. , 216. ,   5. ,   8. ],\n",
              "       [  8.5, 238. ,   6. ,   8.5],\n",
              "       [  9. , 141. ,   7. ,   9. ],\n",
              "       [  7. , 158. ,   8. ,   7. ],\n",
              "       [  8. , 239. ,   5. ,   8. ],\n",
              "       [  8.5, 175. ,   6. ,   8.5],\n",
              "       [  9. , 263. ,   7. ,   9. ],\n",
              "       [  7.5, 168. ,   8. ,   7.5],\n",
              "       [  8. , 176. ,   5. ,   8. ],\n",
              "       [  8.5, 150. ,   6. ,   8.5],\n",
              "       [  9. , 265. ,   7. ,   9. ],\n",
              "       [  7. , 263. ,   8. ,   7. ],\n",
              "       [  8. , 145. ,   5. ,   8. ],\n",
              "       [  8.5, 183. ,   6. ,   8.5],\n",
              "       [  9. , 205. ,   7. ,   9. ],\n",
              "       [  7.5, 160. ,   8. ,   7.5],\n",
              "       [  8. , 252. ,   5. ,   8. ],\n",
              "       [  8.5, 222. ,   6. ,   8.5],\n",
              "       [  9. , 203. ,   7. ,   9. ],\n",
              "       [  7. , 220. ,   8. ,   7. ],\n",
              "       [  8. , 147. ,   5. ,   8. ],\n",
              "       [  8.5, 200. ,   6. ,   8.5],\n",
              "       [  9. , 224. ,   7. ,   9. ],\n",
              "       [  7.5, 179. ,   8. ,   7.5],\n",
              "       [  8. , 144. ,   5. ,   8. ],\n",
              "       [  8.5, 247. ,   6. ,   8.5],\n",
              "       [  9. , 280. ,   7. ,   9. ],\n",
              "       [  7. , 168. ,   8. ,   7. ],\n",
              "       [  8. , 157. ,   5. ,   8. ],\n",
              "       [  8.5, 189. ,   6. ,   8.5],\n",
              "       [  9. , 162. ,   7. ,   9. ],\n",
              "       [  7. , 207. ,   8. ,   7. ],\n",
              "       [  8. , 237. ,   5. ,   8. ],\n",
              "       [  8.5, 264. ,   6. ,   8.5],\n",
              "       [  9. , 149. ,   7. ,   9. ],\n",
              "       [  7. , 162. ,   8. ,   7. ],\n",
              "       [  8. , 205. ,   5. ,   8. ],\n",
              "       [  8.5, 158. ,   6. ,   8.5],\n",
              "       [  9. , 248. ,   7. ,   9. ],\n",
              "       [  7.5, 191. ,   8. ,   7.5],\n",
              "       [  8. , 146. ,   5. ,   8. ],\n",
              "       [  8.5, 135. ,   6. ,   8.5],\n",
              "       [  9. , 149. ,   7. ,   9. ],\n",
              "       [  7. , 220. ,   8. ,   7. ],\n",
              "       [  8. ,  98. ,   5. ,   8. ],\n",
              "       [  8.5,  97. ,   6. ,   8.5],\n",
              "       [  9. , 183. ,   7. ,   9. ],\n",
              "       [  7.5, 162. ,   8. ,   7.5],\n",
              "       [  8. , 114. ,   5. ,   8. ],\n",
              "       [  8.5, 275. ,   6. ,   8.5],\n",
              "       [  9. , 203. ,   7. ,   9. ],\n",
              "       [  7. , 205. ,   8. ,   7. ],\n",
              "       [  8. , 149. ,   5. ,   8. ],\n",
              "       [  8.5, 112. ,   6. ,   8.5],\n",
              "       [  9. , 207. ,   7. ,   9. ],\n",
              "       [  7.5, 261. ,   8. ,   7.5],\n",
              "       [  8. , 274. ,   5. ,   8. ],\n",
              "       [  8.5, 141. ,   6. ,   8.5],\n",
              "       [  9. , 166. ,   7. ,   9. ],\n",
              "       [  7. , 141. ,   8. ,   7. ],\n",
              "       [  8. , 152. ,   5. ,   8. ],\n",
              "       [  8.5, 250. ,   6. ,   8.5],\n",
              "       [  9. , 161. ,   7. ,   9. ],\n",
              "       [  7.5, 185. ,   8. ,   7.5],\n",
              "       [  8. , 176. ,   5. ,   8. ],\n",
              "       [  8.5, 148. ,   6. ,   8.5],\n",
              "       [  9. , 270. ,   7. ,   9. ],\n",
              "       [  7. , 242. ,   8. ,   7. ],\n",
              "       [  8. , 150. ,   5. ,   8. ],\n",
              "       [  8.5, 192. ,   6. ,   8.5],\n",
              "       [  9. , 116. ,   7. ,   9. ],\n",
              "       [  7.5, 192. ,   8. ,   7.5],\n",
              "       [  8. , 255. ,   5. ,   8. ],\n",
              "       [  8.5, 161. ,   6. ,   8.5],\n",
              "       [  9. , 157. ,   7. ,   9. ],\n",
              "       [  7. , 164. ,   8. ,   7. ],\n",
              "       [  8. , 162. ,   5. ,   8. ],\n",
              "       [  8.5, 146. ,   6. ,   8.5],\n",
              "       [  9. , 209. ,   7. ,   9. ],\n",
              "       [  7.5, 134. ,   8. ,   7.5],\n",
              "       [  8. , 222. ,   5. ,   8. ],\n",
              "       [  8.5, 139. ,   6. ,   8.5],\n",
              "       [  9. , 134. ,   7. ,   9. ],\n",
              "       [  7. , 130. ,   8. ,   7. ],\n",
              "       [  8. , 133. ,   5. ,   8. ],\n",
              "       [  8.5, 140. ,   6. ,   8.5],\n",
              "       [  9. , 158. ,   7. ,   9. ],\n",
              "       [  7.5, 270. ,   8. ,   7.5],\n",
              "       [  8. , 140. ,   5. ,   8. ],\n",
              "       [  8.5, 135. ,   6. ,   8.5],\n",
              "       [  9. , 136. ,   7. ,   9. ],\n",
              "       [  7. , 142. ,   8. ,   7. ],\n",
              "       [  8. , 154. ,   5. ,   8. ]])"
            ]
          },
          "metadata": {},
          "execution_count": 19
        }
      ]
    },
    {
      "cell_type": "code",
      "source": [
        "y"
      ],
      "metadata": {
        "id": "dj85b0pUHShy",
        "colab": {
          "base_uri": "https://localhost:8080/"
        },
        "outputId": "f4ba35ec-e70f-4850-84b3-b8bd6a067248"
      },
      "execution_count": null,
      "outputs": [
        {
          "output_type": "execute_result",
          "data": {
            "text/plain": [
              "array([7.5, 8. , 6.5, 5.5, 7. , 8.5, 6.5, 7. , 7.5, 8. , 6. , 7.5, 8. ,\n",
              "       6.5, 7. , 7.5, 8. , 6.5, 7. , 7.5, 8. , 6.5, 7. , 7.5, 8. , 6. ,\n",
              "       7.5, 8. , 6.5, 7. , 7.5, 8. , 6.5, 7. , 7.5, 8. , 6. , 7. , 7.5,\n",
              "       8. , 6.5, 7. , 7.5, 8. , 6. , 7. , 7.5, 8. , 6.5, 7. , 7.5, 8. ,\n",
              "       6. , 7. , 7.5, 8. , 6.5, 7. , 7.5, 8. , 7.5, 8. , 6.5, 7. , 7.5,\n",
              "       8. , 6. , 7. , 7.5, 8. , 6. , 7. , 7.5, 8. , 6.5, 7. , 7.5, 8. ,\n",
              "       6. , 7. , 7.5, 8. , 6.5, 7. , 7.5, 8. , 6. , 7. , 7.5, 8. , 6.5,\n",
              "       7. , 7.5, 8. , 6. , 7. , 7.5, 8. , 6.5, 6. , 7.5, 8. , 6. , 7. ,\n",
              "       7.5, 8. , 6.5, 7. , 7.5, 8. , 6. , 7. , 7.5, 8. , 6.5, 7. , 7.5,\n",
              "       8. , 6. , 7. , 7.5, 8. , 6.5, 7. , 7.5, 8. , 6. , 7. , 7.5, 8. ,\n",
              "       6.5, 7. , 7.5, 8. , 6. , 7. , 7.5, 8. , 6. , 7. , 7.5, 8. , 6. ,\n",
              "       7. , 7.5, 8. , 6.5, 7. , 7.5, 8. , 6. , 7. , 7.5, 8. , 6.5, 7. ,\n",
              "       7.5, 8. , 6. , 7. , 7.5, 8. , 6.5, 7. , 7.5, 8. , 6. , 7. , 7.5,\n",
              "       8. , 6.5, 7. , 7.5, 8. , 6. , 7. , 7.5, 8. , 6.5, 7. , 7.5, 8. ,\n",
              "       6. , 7. , 7.5, 8. , 6.5, 7. , 7.5, 8. , 6. , 7. , 7.5, 8. , 6.5,\n",
              "       7. , 7.5, 8. , 6. , 7. ])"
            ]
          },
          "metadata": {},
          "execution_count": 20
        }
      ]
    },
    {
      "cell_type": "code",
      "source": [
        "# Cria o modelo de regressão linear e aplica o modelo (fit)\n",
        "modelo = LinearRegression()\n",
        "modelo.fit(x,y)\n",
        "\n",
        "# ... ou assim em uma linha\n",
        "# modelo = LinearRegression().fit(x,y)\n",
        "# modelo"
      ],
      "metadata": {
        "id": "1-0cCfxtHTNI",
        "colab": {
          "base_uri": "https://localhost:8080/",
          "height": 74
        },
        "outputId": "e1219fd0-6d1a-4b6b-b7e0-9d13ce5dd647"
      },
      "execution_count": null,
      "outputs": [
        {
          "output_type": "execute_result",
          "data": {
            "text/plain": [
              "LinearRegression()"
            ],
            "text/html": [
              "<style>#sk-container-id-1 {color: black;background-color: white;}#sk-container-id-1 pre{padding: 0;}#sk-container-id-1 div.sk-toggleable {background-color: white;}#sk-container-id-1 label.sk-toggleable__label {cursor: pointer;display: block;width: 100%;margin-bottom: 0;padding: 0.3em;box-sizing: border-box;text-align: center;}#sk-container-id-1 label.sk-toggleable__label-arrow:before {content: \"▸\";float: left;margin-right: 0.25em;color: #696969;}#sk-container-id-1 label.sk-toggleable__label-arrow:hover:before {color: black;}#sk-container-id-1 div.sk-estimator:hover label.sk-toggleable__label-arrow:before {color: black;}#sk-container-id-1 div.sk-toggleable__content {max-height: 0;max-width: 0;overflow: hidden;text-align: left;background-color: #f0f8ff;}#sk-container-id-1 div.sk-toggleable__content pre {margin: 0.2em;color: black;border-radius: 0.25em;background-color: #f0f8ff;}#sk-container-id-1 input.sk-toggleable__control:checked~div.sk-toggleable__content {max-height: 200px;max-width: 100%;overflow: auto;}#sk-container-id-1 input.sk-toggleable__control:checked~label.sk-toggleable__label-arrow:before {content: \"▾\";}#sk-container-id-1 div.sk-estimator input.sk-toggleable__control:checked~label.sk-toggleable__label {background-color: #d4ebff;}#sk-container-id-1 div.sk-label input.sk-toggleable__control:checked~label.sk-toggleable__label {background-color: #d4ebff;}#sk-container-id-1 input.sk-hidden--visually {border: 0;clip: rect(1px 1px 1px 1px);clip: rect(1px, 1px, 1px, 1px);height: 1px;margin: -1px;overflow: hidden;padding: 0;position: absolute;width: 1px;}#sk-container-id-1 div.sk-estimator {font-family: monospace;background-color: #f0f8ff;border: 1px dotted black;border-radius: 0.25em;box-sizing: border-box;margin-bottom: 0.5em;}#sk-container-id-1 div.sk-estimator:hover {background-color: #d4ebff;}#sk-container-id-1 div.sk-parallel-item::after {content: \"\";width: 100%;border-bottom: 1px solid gray;flex-grow: 1;}#sk-container-id-1 div.sk-label:hover label.sk-toggleable__label {background-color: #d4ebff;}#sk-container-id-1 div.sk-serial::before {content: \"\";position: absolute;border-left: 1px solid gray;box-sizing: border-box;top: 0;bottom: 0;left: 50%;z-index: 0;}#sk-container-id-1 div.sk-serial {display: flex;flex-direction: column;align-items: center;background-color: white;padding-right: 0.2em;padding-left: 0.2em;position: relative;}#sk-container-id-1 div.sk-item {position: relative;z-index: 1;}#sk-container-id-1 div.sk-parallel {display: flex;align-items: stretch;justify-content: center;background-color: white;position: relative;}#sk-container-id-1 div.sk-item::before, #sk-container-id-1 div.sk-parallel-item::before {content: \"\";position: absolute;border-left: 1px solid gray;box-sizing: border-box;top: 0;bottom: 0;left: 50%;z-index: -1;}#sk-container-id-1 div.sk-parallel-item {display: flex;flex-direction: column;z-index: 1;position: relative;background-color: white;}#sk-container-id-1 div.sk-parallel-item:first-child::after {align-self: flex-end;width: 50%;}#sk-container-id-1 div.sk-parallel-item:last-child::after {align-self: flex-start;width: 50%;}#sk-container-id-1 div.sk-parallel-item:only-child::after {width: 0;}#sk-container-id-1 div.sk-dashed-wrapped {border: 1px dashed gray;margin: 0 0.4em 0.5em 0.4em;box-sizing: border-box;padding-bottom: 0.4em;background-color: white;}#sk-container-id-1 div.sk-label label {font-family: monospace;font-weight: bold;display: inline-block;line-height: 1.2em;}#sk-container-id-1 div.sk-label-container {text-align: center;}#sk-container-id-1 div.sk-container {/* jupyter's `normalize.less` sets `[hidden] { display: none; }` but bootstrap.min.css set `[hidden] { display: none !important; }` so we also need the `!important` here to be able to override the default hidden behavior on the sphinx rendered scikit-learn.org. See: https://github.com/scikit-learn/scikit-learn/issues/21755 */display: inline-block !important;position: relative;}#sk-container-id-1 div.sk-text-repr-fallback {display: none;}</style><div id=\"sk-container-id-1\" class=\"sk-top-container\"><div class=\"sk-text-repr-fallback\"><pre>LinearRegression()</pre><b>In a Jupyter environment, please rerun this cell to show the HTML representation or trust the notebook. <br />On GitHub, the HTML representation is unable to render, please try loading this page with nbviewer.org.</b></div><div class=\"sk-container\" hidden><div class=\"sk-item\"><div class=\"sk-estimator sk-toggleable\"><input class=\"sk-toggleable__control sk-hidden--visually\" id=\"sk-estimator-id-1\" type=\"checkbox\" checked><label for=\"sk-estimator-id-1\" class=\"sk-toggleable__label sk-toggleable__label-arrow\">LinearRegression</label><div class=\"sk-toggleable__content\"><pre>LinearRegression()</pre></div></div></div></div></div>"
            ]
          },
          "metadata": {},
          "execution_count": 21
        }
      ]
    },
    {
      "cell_type": "code",
      "source": [
        "# Avalia o modelo\n",
        "print('coeficiente de determinação:', round(modelo.score(x, y),4))\n",
        "\n",
        "# Intercept\n",
        "print('intercept:', round(modelo.intercept_,6))\n",
        "\n",
        "# Slope\n",
        "print('slope:', modelo.coef_)"
      ],
      "metadata": {
        "id": "5U4UWSf0HVsg",
        "colab": {
          "base_uri": "https://localhost:8080/"
        },
        "outputId": "7c327433-3ae0-4a22-da91-e25ac93a6377"
      },
      "execution_count": null,
      "outputs": [
        {
          "output_type": "stream",
          "name": "stdout",
          "text": [
            "coeficiente de determinação: 0.9921\n",
            "intercept: -0.977497\n",
            "slope: [ 1.08441694e-02  3.34701001e-05 -7.27808582e-03  9.90454263e-01]\n"
          ]
        }
      ]
    },
    {
      "cell_type": "code",
      "source": [
        "# Outra forma - regressão linear múltipla\n",
        "# Olhar a significância dos parâmetros\n",
        "\n",
        "ols_modelo = ols(\"y ~ x\", data=df)\n",
        "modelo = ols_modelo.fit()\n",
        "print(modelo.summary())"
      ],
      "metadata": {
        "id": "jKw9E7wdHYN_",
        "colab": {
          "base_uri": "https://localhost:8080/"
        },
        "outputId": "b705e984-a92f-41ab-8fc5-c8949124146d"
      },
      "execution_count": null,
      "outputs": [
        {
          "output_type": "stream",
          "name": "stdout",
          "text": [
            "                            OLS Regression Results                            \n",
            "==============================================================================\n",
            "Dep. Variable:                      y   R-squared:                       0.992\n",
            "Model:                            OLS   Adj. R-squared:                  0.992\n",
            "Method:                 Least Squares   F-statistic:                     6151.\n",
            "Date:                Sat, 01 Jun 2024   Prob (F-statistic):          6.52e-204\n",
            "Time:                        00:50:32   Log-Likelihood:                 278.79\n",
            "No. Observations:                 200   AIC:                            -547.6\n",
            "Df Residuals:                     195   BIC:                            -531.1\n",
            "Df Model:                           4                                         \n",
            "Covariance Type:            nonrobust                                         \n",
            "==============================================================================\n",
            "                 coef    std err          t      P>|t|      [0.025      0.975]\n",
            "------------------------------------------------------------------------------\n",
            "Intercept     -0.9775      0.071    -13.690      0.000      -1.118      -0.837\n",
            "x[0]           0.0108      0.035      0.307      0.759      -0.059       0.081\n",
            "x[1]        3.347e-05   9.64e-05      0.347      0.729      -0.000       0.000\n",
            "x[2]          -0.0073      0.004     -1.961      0.051      -0.015    4.31e-05\n",
            "x[3]           0.9905      0.036     27.541      0.000       0.920       1.061\n",
            "==============================================================================\n",
            "Omnibus:                      315.846   Durbin-Watson:                   0.698\n",
            "Prob(Omnibus):                  0.000   Jarque-Bera (JB):            30579.971\n",
            "Skew:                          -7.682   Prob(JB):                         0.00\n",
            "Kurtosis:                      61.596   Cond. No.                     3.27e+03\n",
            "==============================================================================\n",
            "\n",
            "Notes:\n",
            "[1] Standard Errors assume that the covariance matrix of the errors is correctly specified.\n",
            "[2] The condition number is large, 3.27e+03. This might indicate that there are\n",
            "strong multicollinearity or other numerical problems.\n"
          ]
        }
      ]
    },
    {
      "cell_type": "code",
      "source": [
        "df.info()"
      ],
      "metadata": {
        "colab": {
          "base_uri": "https://localhost:8080/"
        },
        "id": "wFniWemvdA-j",
        "outputId": "82df8209-2073-41d8-b662-07eca4c29f28"
      },
      "execution_count": null,
      "outputs": [
        {
          "output_type": "stream",
          "name": "stdout",
          "text": [
            "<class 'pandas.core.frame.DataFrame'>\n",
            "RangeIndex: 200 entries, 0 to 199\n",
            "Data columns (total 5 columns):\n",
            " #   Column                Non-Null Count  Dtype  \n",
            "---  ------                --------------  -----  \n",
            " 0   Aval_Cliente_Confiab  200 non-null    float64\n",
            " 1   Custo_Produto         200 non-null    int64  \n",
            " 2   Prazo_Entrega_Dias    200 non-null    int64  \n",
            " 3   Preço                 200 non-null    float64\n",
            " 4   Qualid_Produto        200 non-null    float64\n",
            "dtypes: float64(3), int64(2)\n",
            "memory usage: 7.9 KB\n"
          ]
        }
      ]
    },
    {
      "cell_type": "code",
      "source": [
        "# Criando x e y\n",
        "# Cria o dataset. Criamos em formato de array\n",
        "x = np.array(df[['Qualid_Produto','Prazo_Entrega_Dias','Aval_Cliente_Confiab']])\n",
        "y = np.array(df['Preço'])"
      ],
      "metadata": {
        "id": "ZvBokwuHH0Ko"
      },
      "execution_count": null,
      "outputs": []
    },
    {
      "cell_type": "code",
      "source": [
        "x"
      ],
      "metadata": {
        "id": "5kLbb5HZIDG8",
        "colab": {
          "base_uri": "https://localhost:8080/"
        },
        "outputId": "b0db5e9a-8d6d-498d-8eb7-4a0f8db47a0a"
      },
      "execution_count": null,
      "outputs": [
        {
          "output_type": "execute_result",
          "data": {
            "text/plain": [
              "array([[ 8.5,  5. ,  9. ],\n",
              "       [ 9. ,  7. ,  8.5],\n",
              "       [ 8. ,  6. ,  7. ],\n",
              "       [ 7. , 10. ,  8. ],\n",
              "       [ 8.5,  8. ,  8.5],\n",
              "       [ 9.5,  3. ,  9.5],\n",
              "       [ 7.5,  7. ,  7.5],\n",
              "       [ 8. ,  6. ,  8. ],\n",
              "       [ 8.5,  5. ,  9. ],\n",
              "       [ 9. ,  8. ,  9.5],\n",
              "       [ 7. , 10. ,  7. ],\n",
              "       [ 8.5,  4. ,  8.5],\n",
              "       [ 9. ,  6. ,  9. ],\n",
              "       [ 7.5,  7. ,  7.5],\n",
              "       [ 8. ,  5. ,  8. ],\n",
              "       [ 8.5,  6. ,  8.5],\n",
              "       [ 9. ,  8. ,  9. ],\n",
              "       [ 7.5,  5. ,  7.5],\n",
              "       [ 8. ,  4. ,  8. ],\n",
              "       [ 8.5,  6. ,  8.5],\n",
              "       [ 9. ,  7. ,  9. ],\n",
              "       [ 7.5, 10. ,  7.5],\n",
              "       [ 8. ,  5. ,  8. ],\n",
              "       [ 8.5,  4. ,  8.5],\n",
              "       [ 9. ,  6. ,  9. ],\n",
              "       [ 7. ,  7. ,  7. ],\n",
              "       [ 8.5,  8. ,  8.5],\n",
              "       [ 9. ,  5. ,  9. ],\n",
              "       [ 7.5,  6. ,  7.5],\n",
              "       [ 8. ,  7. ,  8. ],\n",
              "       [ 8.5,  6. ,  8.5],\n",
              "       [ 9. ,  5. ,  9. ],\n",
              "       [ 7.5,  7. ,  7.5],\n",
              "       [ 8. ,  8. ,  8. ],\n",
              "       [ 8.5,  5. ,  8.5],\n",
              "       [ 9. ,  6. ,  9. ],\n",
              "       [ 7. ,  7. ,  7. ],\n",
              "       [ 8. ,  4. ,  8. ],\n",
              "       [ 8.5,  6. ,  8.5],\n",
              "       [ 9. ,  5. ,  9. ],\n",
              "       [ 7.5,  7. ,  7.5],\n",
              "       [ 8. ,  8. ,  8. ],\n",
              "       [ 8.5,  5. ,  8.5],\n",
              "       [ 9. ,  6. ,  9. ],\n",
              "       [ 7. ,  7. ,  7. ],\n",
              "       [ 8. ,  8. ,  8. ],\n",
              "       [ 8.5,  5. ,  8.5],\n",
              "       [ 9. ,  6. ,  9. ],\n",
              "       [ 7.5,  7. ,  7.5],\n",
              "       [ 8. ,  8. ,  8. ],\n",
              "       [ 8.5,  5. ,  8.5],\n",
              "       [ 9. ,  6. ,  9. ],\n",
              "       [ 7. ,  7. ,  7. ],\n",
              "       [ 8. ,  8. ,  8. ],\n",
              "       [ 8.5,  5. ,  8.5],\n",
              "       [ 9. ,  6. ,  9. ],\n",
              "       [ 7.5,  7. ,  7.5],\n",
              "       [ 8. ,  8. ,  8. ],\n",
              "       [ 8.5,  5. ,  8.5],\n",
              "       [ 9. ,  6. ,  9. ],\n",
              "       [ 8.5,  6. ,  8.5],\n",
              "       [ 9. ,  7. ,  9. ],\n",
              "       [ 7.5,  8. ,  7.5],\n",
              "       [ 8. ,  5. ,  8. ],\n",
              "       [ 8.5,  6. ,  8.5],\n",
              "       [ 9. ,  8. ,  9. ],\n",
              "       [ 7. ,  7. ,  7. ],\n",
              "       [ 8. ,  6. ,  8. ],\n",
              "       [ 8.5,  5. ,  8.5],\n",
              "       [ 9. ,  7. ,  9. ],\n",
              "       [ 7. ,  8. ,  7. ],\n",
              "       [ 8. ,  5. ,  8. ],\n",
              "       [ 8.5,  6. ,  8.5],\n",
              "       [ 9. ,  7. ,  9. ],\n",
              "       [ 7.5,  8. ,  7.5],\n",
              "       [ 8. ,  5. ,  8. ],\n",
              "       [ 8.5,  6. ,  8.5],\n",
              "       [ 9. ,  7. ,  9. ],\n",
              "       [ 7. ,  8. ,  7. ],\n",
              "       [ 8. ,  5. ,  8. ],\n",
              "       [ 8.5,  6. ,  8.5],\n",
              "       [ 9. ,  7. ,  9. ],\n",
              "       [ 7.5,  8. ,  7.5],\n",
              "       [ 8. ,  5. ,  8. ],\n",
              "       [ 8.5,  6. ,  8.5],\n",
              "       [ 9. ,  7. ,  9. ],\n",
              "       [ 7. ,  8. ,  7. ],\n",
              "       [ 8. ,  5. ,  8. ],\n",
              "       [ 8.5,  6. ,  8.5],\n",
              "       [ 9. ,  7. ,  9. ],\n",
              "       [ 7.5,  8. ,  7.5],\n",
              "       [ 8. ,  5. ,  8. ],\n",
              "       [ 8.5,  6. ,  8.5],\n",
              "       [ 9. ,  7. ,  9. ],\n",
              "       [ 7. ,  8. ,  7. ],\n",
              "       [ 8. ,  5. ,  8. ],\n",
              "       [ 8.5,  6. ,  8.5],\n",
              "       [ 9. ,  7. ,  9. ],\n",
              "       [ 7.5,  8. ,  7.5],\n",
              "       [ 7. ,  8. ,  7. ],\n",
              "       [ 8.5,  6. ,  8.5],\n",
              "       [ 9. ,  7. ,  9. ],\n",
              "       [ 7. ,  8. ,  7. ],\n",
              "       [ 8. ,  5. ,  8. ],\n",
              "       [ 8.5,  6. ,  8.5],\n",
              "       [ 9. ,  7. ,  9. ],\n",
              "       [ 7.5,  8. ,  7.5],\n",
              "       [ 8. ,  5. ,  8. ],\n",
              "       [ 8.5,  6. ,  8.5],\n",
              "       [ 9. ,  7. ,  9. ],\n",
              "       [ 7. ,  8. ,  7. ],\n",
              "       [ 8. ,  5. ,  8. ],\n",
              "       [ 8.5,  6. ,  8.5],\n",
              "       [ 9. ,  7. ,  9. ],\n",
              "       [ 7.5,  8. ,  7.5],\n",
              "       [ 8. ,  5. ,  8. ],\n",
              "       [ 8.5,  6. ,  8.5],\n",
              "       [ 9. ,  7. ,  9. ],\n",
              "       [ 7. ,  8. ,  7. ],\n",
              "       [ 8. ,  5. ,  8. ],\n",
              "       [ 8.5,  6. ,  8.5],\n",
              "       [ 9. ,  7. ,  9. ],\n",
              "       [ 7.5,  8. ,  7.5],\n",
              "       [ 8. ,  5. ,  8. ],\n",
              "       [ 8.5,  6. ,  8.5],\n",
              "       [ 9. ,  7. ,  9. ],\n",
              "       [ 7. ,  8. ,  7. ],\n",
              "       [ 8. ,  5. ,  8. ],\n",
              "       [ 8.5,  6. ,  8.5],\n",
              "       [ 9. ,  7. ,  9. ],\n",
              "       [ 7.5,  8. ,  7.5],\n",
              "       [ 8. ,  5. ,  8. ],\n",
              "       [ 8.5,  6. ,  8.5],\n",
              "       [ 9. ,  7. ,  9. ],\n",
              "       [ 7. ,  8. ,  7. ],\n",
              "       [ 8. ,  5. ,  8. ],\n",
              "       [ 8.5,  6. ,  8.5],\n",
              "       [ 9. ,  7. ,  9. ],\n",
              "       [ 7. ,  8. ,  7. ],\n",
              "       [ 8. ,  5. ,  8. ],\n",
              "       [ 8.5,  6. ,  8.5],\n",
              "       [ 9. ,  7. ,  9. ],\n",
              "       [ 7. ,  8. ,  7. ],\n",
              "       [ 8. ,  5. ,  8. ],\n",
              "       [ 8.5,  6. ,  8.5],\n",
              "       [ 9. ,  7. ,  9. ],\n",
              "       [ 7.5,  8. ,  7.5],\n",
              "       [ 8. ,  5. ,  8. ],\n",
              "       [ 8.5,  6. ,  8.5],\n",
              "       [ 9. ,  7. ,  9. ],\n",
              "       [ 7. ,  8. ,  7. ],\n",
              "       [ 8. ,  5. ,  8. ],\n",
              "       [ 8.5,  6. ,  8.5],\n",
              "       [ 9. ,  7. ,  9. ],\n",
              "       [ 7.5,  8. ,  7.5],\n",
              "       [ 8. ,  5. ,  8. ],\n",
              "       [ 8.5,  6. ,  8.5],\n",
              "       [ 9. ,  7. ,  9. ],\n",
              "       [ 7. ,  8. ,  7. ],\n",
              "       [ 8. ,  5. ,  8. ],\n",
              "       [ 8.5,  6. ,  8.5],\n",
              "       [ 9. ,  7. ,  9. ],\n",
              "       [ 7.5,  8. ,  7.5],\n",
              "       [ 8. ,  5. ,  8. ],\n",
              "       [ 8.5,  6. ,  8.5],\n",
              "       [ 9. ,  7. ,  9. ],\n",
              "       [ 7. ,  8. ,  7. ],\n",
              "       [ 8. ,  5. ,  8. ],\n",
              "       [ 8.5,  6. ,  8.5],\n",
              "       [ 9. ,  7. ,  9. ],\n",
              "       [ 7.5,  8. ,  7.5],\n",
              "       [ 8. ,  5. ,  8. ],\n",
              "       [ 8.5,  6. ,  8.5],\n",
              "       [ 9. ,  7. ,  9. ],\n",
              "       [ 7. ,  8. ,  7. ],\n",
              "       [ 8. ,  5. ,  8. ],\n",
              "       [ 8.5,  6. ,  8.5],\n",
              "       [ 9. ,  7. ,  9. ],\n",
              "       [ 7.5,  8. ,  7.5],\n",
              "       [ 8. ,  5. ,  8. ],\n",
              "       [ 8.5,  6. ,  8.5],\n",
              "       [ 9. ,  7. ,  9. ],\n",
              "       [ 7. ,  8. ,  7. ],\n",
              "       [ 8. ,  5. ,  8. ],\n",
              "       [ 8.5,  6. ,  8.5],\n",
              "       [ 9. ,  7. ,  9. ],\n",
              "       [ 7.5,  8. ,  7.5],\n",
              "       [ 8. ,  5. ,  8. ],\n",
              "       [ 8.5,  6. ,  8.5],\n",
              "       [ 9. ,  7. ,  9. ],\n",
              "       [ 7. ,  8. ,  7. ],\n",
              "       [ 8. ,  5. ,  8. ],\n",
              "       [ 8.5,  6. ,  8.5],\n",
              "       [ 9. ,  7. ,  9. ],\n",
              "       [ 7.5,  8. ,  7.5],\n",
              "       [ 8. ,  5. ,  8. ],\n",
              "       [ 8.5,  6. ,  8.5],\n",
              "       [ 9. ,  7. ,  9. ],\n",
              "       [ 7. ,  8. ,  7. ],\n",
              "       [ 8. ,  5. ,  8. ]])"
            ]
          },
          "metadata": {},
          "execution_count": 26
        }
      ]
    },
    {
      "cell_type": "code",
      "source": [
        "y"
      ],
      "metadata": {
        "id": "f3AaBZwyIEGr",
        "colab": {
          "base_uri": "https://localhost:8080/"
        },
        "outputId": "25b273a0-3d74-42d7-c12c-08c7f2afb2ff"
      },
      "execution_count": null,
      "outputs": [
        {
          "output_type": "execute_result",
          "data": {
            "text/plain": [
              "array([7.5, 8. , 6.5, 5.5, 7. , 8.5, 6.5, 7. , 7.5, 8. , 6. , 7.5, 8. ,\n",
              "       6.5, 7. , 7.5, 8. , 6.5, 7. , 7.5, 8. , 6.5, 7. , 7.5, 8. , 6. ,\n",
              "       7.5, 8. , 6.5, 7. , 7.5, 8. , 6.5, 7. , 7.5, 8. , 6. , 7. , 7.5,\n",
              "       8. , 6.5, 7. , 7.5, 8. , 6. , 7. , 7.5, 8. , 6.5, 7. , 7.5, 8. ,\n",
              "       6. , 7. , 7.5, 8. , 6.5, 7. , 7.5, 8. , 7.5, 8. , 6.5, 7. , 7.5,\n",
              "       8. , 6. , 7. , 7.5, 8. , 6. , 7. , 7.5, 8. , 6.5, 7. , 7.5, 8. ,\n",
              "       6. , 7. , 7.5, 8. , 6.5, 7. , 7.5, 8. , 6. , 7. , 7.5, 8. , 6.5,\n",
              "       7. , 7.5, 8. , 6. , 7. , 7.5, 8. , 6.5, 6. , 7.5, 8. , 6. , 7. ,\n",
              "       7.5, 8. , 6.5, 7. , 7.5, 8. , 6. , 7. , 7.5, 8. , 6.5, 7. , 7.5,\n",
              "       8. , 6. , 7. , 7.5, 8. , 6.5, 7. , 7.5, 8. , 6. , 7. , 7.5, 8. ,\n",
              "       6.5, 7. , 7.5, 8. , 6. , 7. , 7.5, 8. , 6. , 7. , 7.5, 8. , 6. ,\n",
              "       7. , 7.5, 8. , 6.5, 7. , 7.5, 8. , 6. , 7. , 7.5, 8. , 6.5, 7. ,\n",
              "       7.5, 8. , 6. , 7. , 7.5, 8. , 6.5, 7. , 7.5, 8. , 6. , 7. , 7.5,\n",
              "       8. , 6.5, 7. , 7.5, 8. , 6. , 7. , 7.5, 8. , 6.5, 7. , 7.5, 8. ,\n",
              "       6. , 7. , 7.5, 8. , 6.5, 7. , 7.5, 8. , 6. , 7. , 7.5, 8. , 6.5,\n",
              "       7. , 7.5, 8. , 6. , 7. ])"
            ]
          },
          "metadata": {},
          "execution_count": 27
        }
      ]
    },
    {
      "cell_type": "code",
      "source": [
        "# Cria o modelo de regressão linear e aplica o modelo (fit)\n",
        "modelo = LinearRegression()\n",
        "modelo.fit(x,y)\n",
        "\n",
        "# ... ou assim em uma linha\n",
        "# modelo = LinearRegression().fit(x,y)\n",
        "# modelo"
      ],
      "metadata": {
        "id": "XULALcT9IE0P",
        "colab": {
          "base_uri": "https://localhost:8080/",
          "height": 74
        },
        "outputId": "f9d77811-0fce-4ce9-c222-f16469f96b94"
      },
      "execution_count": null,
      "outputs": [
        {
          "output_type": "execute_result",
          "data": {
            "text/plain": [
              "LinearRegression()"
            ],
            "text/html": [
              "<style>#sk-container-id-2 {color: black;background-color: white;}#sk-container-id-2 pre{padding: 0;}#sk-container-id-2 div.sk-toggleable {background-color: white;}#sk-container-id-2 label.sk-toggleable__label {cursor: pointer;display: block;width: 100%;margin-bottom: 0;padding: 0.3em;box-sizing: border-box;text-align: center;}#sk-container-id-2 label.sk-toggleable__label-arrow:before {content: \"▸\";float: left;margin-right: 0.25em;color: #696969;}#sk-container-id-2 label.sk-toggleable__label-arrow:hover:before {color: black;}#sk-container-id-2 div.sk-estimator:hover label.sk-toggleable__label-arrow:before {color: black;}#sk-container-id-2 div.sk-toggleable__content {max-height: 0;max-width: 0;overflow: hidden;text-align: left;background-color: #f0f8ff;}#sk-container-id-2 div.sk-toggleable__content pre {margin: 0.2em;color: black;border-radius: 0.25em;background-color: #f0f8ff;}#sk-container-id-2 input.sk-toggleable__control:checked~div.sk-toggleable__content {max-height: 200px;max-width: 100%;overflow: auto;}#sk-container-id-2 input.sk-toggleable__control:checked~label.sk-toggleable__label-arrow:before {content: \"▾\";}#sk-container-id-2 div.sk-estimator input.sk-toggleable__control:checked~label.sk-toggleable__label {background-color: #d4ebff;}#sk-container-id-2 div.sk-label input.sk-toggleable__control:checked~label.sk-toggleable__label {background-color: #d4ebff;}#sk-container-id-2 input.sk-hidden--visually {border: 0;clip: rect(1px 1px 1px 1px);clip: rect(1px, 1px, 1px, 1px);height: 1px;margin: -1px;overflow: hidden;padding: 0;position: absolute;width: 1px;}#sk-container-id-2 div.sk-estimator {font-family: monospace;background-color: #f0f8ff;border: 1px dotted black;border-radius: 0.25em;box-sizing: border-box;margin-bottom: 0.5em;}#sk-container-id-2 div.sk-estimator:hover {background-color: #d4ebff;}#sk-container-id-2 div.sk-parallel-item::after {content: \"\";width: 100%;border-bottom: 1px solid gray;flex-grow: 1;}#sk-container-id-2 div.sk-label:hover label.sk-toggleable__label {background-color: #d4ebff;}#sk-container-id-2 div.sk-serial::before {content: \"\";position: absolute;border-left: 1px solid gray;box-sizing: border-box;top: 0;bottom: 0;left: 50%;z-index: 0;}#sk-container-id-2 div.sk-serial {display: flex;flex-direction: column;align-items: center;background-color: white;padding-right: 0.2em;padding-left: 0.2em;position: relative;}#sk-container-id-2 div.sk-item {position: relative;z-index: 1;}#sk-container-id-2 div.sk-parallel {display: flex;align-items: stretch;justify-content: center;background-color: white;position: relative;}#sk-container-id-2 div.sk-item::before, #sk-container-id-2 div.sk-parallel-item::before {content: \"\";position: absolute;border-left: 1px solid gray;box-sizing: border-box;top: 0;bottom: 0;left: 50%;z-index: -1;}#sk-container-id-2 div.sk-parallel-item {display: flex;flex-direction: column;z-index: 1;position: relative;background-color: white;}#sk-container-id-2 div.sk-parallel-item:first-child::after {align-self: flex-end;width: 50%;}#sk-container-id-2 div.sk-parallel-item:last-child::after {align-self: flex-start;width: 50%;}#sk-container-id-2 div.sk-parallel-item:only-child::after {width: 0;}#sk-container-id-2 div.sk-dashed-wrapped {border: 1px dashed gray;margin: 0 0.4em 0.5em 0.4em;box-sizing: border-box;padding-bottom: 0.4em;background-color: white;}#sk-container-id-2 div.sk-label label {font-family: monospace;font-weight: bold;display: inline-block;line-height: 1.2em;}#sk-container-id-2 div.sk-label-container {text-align: center;}#sk-container-id-2 div.sk-container {/* jupyter's `normalize.less` sets `[hidden] { display: none; }` but bootstrap.min.css set `[hidden] { display: none !important; }` so we also need the `!important` here to be able to override the default hidden behavior on the sphinx rendered scikit-learn.org. See: https://github.com/scikit-learn/scikit-learn/issues/21755 */display: inline-block !important;position: relative;}#sk-container-id-2 div.sk-text-repr-fallback {display: none;}</style><div id=\"sk-container-id-2\" class=\"sk-top-container\"><div class=\"sk-text-repr-fallback\"><pre>LinearRegression()</pre><b>In a Jupyter environment, please rerun this cell to show the HTML representation or trust the notebook. <br />On GitHub, the HTML representation is unable to render, please try loading this page with nbviewer.org.</b></div><div class=\"sk-container\" hidden><div class=\"sk-item\"><div class=\"sk-estimator sk-toggleable\"><input class=\"sk-toggleable__control sk-hidden--visually\" id=\"sk-estimator-id-2\" type=\"checkbox\" checked><label for=\"sk-estimator-id-2\" class=\"sk-toggleable__label sk-toggleable__label-arrow\">LinearRegression</label><div class=\"sk-toggleable__content\"><pre>LinearRegression()</pre></div></div></div></div></div>"
            ]
          },
          "metadata": {},
          "execution_count": 28
        }
      ]
    },
    {
      "cell_type": "code",
      "source": [
        "# Avalia o modelo\n",
        "print('coeficiente de determinação:', round(modelo.score(x, y),4))\n",
        "\n",
        "# Intercept\n",
        "print('intercept:', round(modelo.intercept_,6))\n",
        "\n",
        "# Slope\n",
        "print('slope:', modelo.coef_)"
      ],
      "metadata": {
        "id": "GDP4wMr3IGp5",
        "colab": {
          "base_uri": "https://localhost:8080/"
        },
        "outputId": "02efd900-4ae8-4e2b-b461-c21c60ecdbd9"
      },
      "execution_count": null,
      "outputs": [
        {
          "output_type": "stream",
          "name": "stdout",
          "text": [
            "coeficiente de determinação: 0.9921\n",
            "intercept: -0.970671\n",
            "slope: [ 0.99106923 -0.00729273  0.01018409]\n"
          ]
        }
      ]
    },
    {
      "cell_type": "code",
      "source": [
        "# Outra forma - regressão linear múltipla\n",
        "# Olhar a significância dos parâmetros\n",
        "\n",
        "ols_modelo = ols(\"y ~ x\", data=df)\n",
        "modelo = ols_modelo.fit()\n",
        "print(modelo.summary())"
      ],
      "metadata": {
        "id": "_MTjR126IJYg",
        "colab": {
          "base_uri": "https://localhost:8080/"
        },
        "outputId": "80a0ddcf-f3ef-48eb-e947-76c94879a739"
      },
      "execution_count": null,
      "outputs": [
        {
          "output_type": "stream",
          "name": "stdout",
          "text": [
            "                            OLS Regression Results                            \n",
            "==============================================================================\n",
            "Dep. Variable:                      y   R-squared:                       0.992\n",
            "Model:                            OLS   Adj. R-squared:                  0.992\n",
            "Method:                 Least Squares   F-statistic:                     8238.\n",
            "Date:                Sat, 01 Jun 2024   Prob (F-statistic):          7.02e-206\n",
            "Time:                        00:50:58   Log-Likelihood:                 278.73\n",
            "No. Observations:                 200   AIC:                            -549.5\n",
            "Df Residuals:                     196   BIC:                            -536.3\n",
            "Df Model:                           3                                         \n",
            "Covariance Type:            nonrobust                                         \n",
            "==============================================================================\n",
            "                 coef    std err          t      P>|t|      [0.025      0.975]\n",
            "------------------------------------------------------------------------------\n",
            "Intercept     -0.9707      0.068    -14.173      0.000      -1.106      -0.836\n",
            "x[0]           0.9911      0.036     27.654      0.000       0.920       1.062\n",
            "x[1]          -0.0073      0.004     -1.969      0.050      -0.015    1.13e-05\n",
            "x[2]           0.0102      0.035      0.289      0.773      -0.059       0.080\n",
            "==============================================================================\n",
            "Omnibus:                      316.031   Durbin-Watson:                   0.698\n",
            "Prob(Omnibus):                  0.000   Jarque-Bera (JB):            30663.459\n",
            "Skew:                          -7.690   Prob(JB):                         0.00\n",
            "Kurtosis:                      61.678   Cond. No.                         215.\n",
            "==============================================================================\n",
            "\n",
            "Notes:\n",
            "[1] Standard Errors assume that the covariance matrix of the errors is correctly specified.\n"
          ]
        }
      ]
    },
    {
      "cell_type": "code",
      "source": [
        "x_train, x_test, y_train, y_test = train_test_split(x, y, test_size=0.2, random_state=42)"
      ],
      "metadata": {
        "id": "ldOeTWIk9WJX"
      },
      "execution_count": null,
      "outputs": []
    },
    {
      "cell_type": "code",
      "source": [
        "model = LinearRegression()\n",
        "model.fit(x_train, y_train)"
      ],
      "metadata": {
        "id": "y1ZhNn_x-rXW",
        "colab": {
          "base_uri": "https://localhost:8080/",
          "height": 74
        },
        "outputId": "6dcb9a0d-3110-47dc-d846-ed55aba9f37b"
      },
      "execution_count": null,
      "outputs": [
        {
          "output_type": "execute_result",
          "data": {
            "text/plain": [
              "LinearRegression()"
            ],
            "text/html": [
              "<style>#sk-container-id-3 {color: black;background-color: white;}#sk-container-id-3 pre{padding: 0;}#sk-container-id-3 div.sk-toggleable {background-color: white;}#sk-container-id-3 label.sk-toggleable__label {cursor: pointer;display: block;width: 100%;margin-bottom: 0;padding: 0.3em;box-sizing: border-box;text-align: center;}#sk-container-id-3 label.sk-toggleable__label-arrow:before {content: \"▸\";float: left;margin-right: 0.25em;color: #696969;}#sk-container-id-3 label.sk-toggleable__label-arrow:hover:before {color: black;}#sk-container-id-3 div.sk-estimator:hover label.sk-toggleable__label-arrow:before {color: black;}#sk-container-id-3 div.sk-toggleable__content {max-height: 0;max-width: 0;overflow: hidden;text-align: left;background-color: #f0f8ff;}#sk-container-id-3 div.sk-toggleable__content pre {margin: 0.2em;color: black;border-radius: 0.25em;background-color: #f0f8ff;}#sk-container-id-3 input.sk-toggleable__control:checked~div.sk-toggleable__content {max-height: 200px;max-width: 100%;overflow: auto;}#sk-container-id-3 input.sk-toggleable__control:checked~label.sk-toggleable__label-arrow:before {content: \"▾\";}#sk-container-id-3 div.sk-estimator input.sk-toggleable__control:checked~label.sk-toggleable__label {background-color: #d4ebff;}#sk-container-id-3 div.sk-label input.sk-toggleable__control:checked~label.sk-toggleable__label {background-color: #d4ebff;}#sk-container-id-3 input.sk-hidden--visually {border: 0;clip: rect(1px 1px 1px 1px);clip: rect(1px, 1px, 1px, 1px);height: 1px;margin: -1px;overflow: hidden;padding: 0;position: absolute;width: 1px;}#sk-container-id-3 div.sk-estimator {font-family: monospace;background-color: #f0f8ff;border: 1px dotted black;border-radius: 0.25em;box-sizing: border-box;margin-bottom: 0.5em;}#sk-container-id-3 div.sk-estimator:hover {background-color: #d4ebff;}#sk-container-id-3 div.sk-parallel-item::after {content: \"\";width: 100%;border-bottom: 1px solid gray;flex-grow: 1;}#sk-container-id-3 div.sk-label:hover label.sk-toggleable__label {background-color: #d4ebff;}#sk-container-id-3 div.sk-serial::before {content: \"\";position: absolute;border-left: 1px solid gray;box-sizing: border-box;top: 0;bottom: 0;left: 50%;z-index: 0;}#sk-container-id-3 div.sk-serial {display: flex;flex-direction: column;align-items: center;background-color: white;padding-right: 0.2em;padding-left: 0.2em;position: relative;}#sk-container-id-3 div.sk-item {position: relative;z-index: 1;}#sk-container-id-3 div.sk-parallel {display: flex;align-items: stretch;justify-content: center;background-color: white;position: relative;}#sk-container-id-3 div.sk-item::before, #sk-container-id-3 div.sk-parallel-item::before {content: \"\";position: absolute;border-left: 1px solid gray;box-sizing: border-box;top: 0;bottom: 0;left: 50%;z-index: -1;}#sk-container-id-3 div.sk-parallel-item {display: flex;flex-direction: column;z-index: 1;position: relative;background-color: white;}#sk-container-id-3 div.sk-parallel-item:first-child::after {align-self: flex-end;width: 50%;}#sk-container-id-3 div.sk-parallel-item:last-child::after {align-self: flex-start;width: 50%;}#sk-container-id-3 div.sk-parallel-item:only-child::after {width: 0;}#sk-container-id-3 div.sk-dashed-wrapped {border: 1px dashed gray;margin: 0 0.4em 0.5em 0.4em;box-sizing: border-box;padding-bottom: 0.4em;background-color: white;}#sk-container-id-3 div.sk-label label {font-family: monospace;font-weight: bold;display: inline-block;line-height: 1.2em;}#sk-container-id-3 div.sk-label-container {text-align: center;}#sk-container-id-3 div.sk-container {/* jupyter's `normalize.less` sets `[hidden] { display: none; }` but bootstrap.min.css set `[hidden] { display: none !important; }` so we also need the `!important` here to be able to override the default hidden behavior on the sphinx rendered scikit-learn.org. See: https://github.com/scikit-learn/scikit-learn/issues/21755 */display: inline-block !important;position: relative;}#sk-container-id-3 div.sk-text-repr-fallback {display: none;}</style><div id=\"sk-container-id-3\" class=\"sk-top-container\"><div class=\"sk-text-repr-fallback\"><pre>LinearRegression()</pre><b>In a Jupyter environment, please rerun this cell to show the HTML representation or trust the notebook. <br />On GitHub, the HTML representation is unable to render, please try loading this page with nbviewer.org.</b></div><div class=\"sk-container\" hidden><div class=\"sk-item\"><div class=\"sk-estimator sk-toggleable\"><input class=\"sk-toggleable__control sk-hidden--visually\" id=\"sk-estimator-id-3\" type=\"checkbox\" checked><label for=\"sk-estimator-id-3\" class=\"sk-toggleable__label sk-toggleable__label-arrow\">LinearRegression</label><div class=\"sk-toggleable__content\"><pre>LinearRegression()</pre></div></div></div></div></div>"
            ]
          },
          "metadata": {},
          "execution_count": 32
        }
      ]
    },
    {
      "cell_type": "code",
      "source": [
        "df.info()"
      ],
      "metadata": {
        "colab": {
          "base_uri": "https://localhost:8080/"
        },
        "id": "IYuHGzm0GY3T",
        "outputId": "cc6b44d4-0f8c-482d-f353-a53adc9f00a3"
      },
      "execution_count": null,
      "outputs": [
        {
          "output_type": "stream",
          "name": "stdout",
          "text": [
            "<class 'pandas.core.frame.DataFrame'>\n",
            "RangeIndex: 200 entries, 0 to 199\n",
            "Data columns (total 5 columns):\n",
            " #   Column                Non-Null Count  Dtype  \n",
            "---  ------                --------------  -----  \n",
            " 0   Aval_Cliente_Confiab  200 non-null    float64\n",
            " 1   Custo_Produto         200 non-null    int64  \n",
            " 2   Prazo_Entrega_Dias    200 non-null    int64  \n",
            " 3   Preço                 200 non-null    float64\n",
            " 4   Qualid_Produto        200 non-null    float64\n",
            "dtypes: float64(3), int64(2)\n",
            "memory usage: 7.9 KB\n"
          ]
        }
      ]
    },
    {
      "cell_type": "code",
      "source": [
        "# Métricas de avaliação\n",
        "\n",
        "# Erro Absoluto Médio (MAE): mede as distâncias entre valores preditos e observados.\n",
        "# Essa métrica não é muito influenciada pelos outliers. Quanto menor seu valor, melhor\n",
        "MAE = metrics.mean_absolute_error(y_test, y_pred)\n",
        "print('MAE:', metrics.mean_absolute_error(y_test, y_pred))\n",
        "\n",
        "# Erro Quadrático Médio (MSE): indicada para problemas nos quais grandes erros não são tolerados.\n",
        "# Mais difícil de interpretar, pois eleva a unidade ao quadrado. Quanto menor seu valor, melhor\n",
        "MSE = metrics.mean_squared_error(y_test, y_pred)\n",
        "print('MSE:', metrics.mean_squared_error(y_test, y_pred))\n",
        "\n",
        "# Raiz do Erro Quadrático Médio (RMSE): tem a mesma unidade dos valores observados e preditos.\n",
        "# Seu resultado é uma medida do desvio médio (erro) entre observado e predito\n",
        "RMSE = np.sqrt(metrics.mean_squared_error(y_test, y_pred))\n",
        "print('RMSE:', np.sqrt(metrics.mean_squared_error(y_test, y_pred)))\n",
        "\n",
        "# R2: calcula qual a porcentagem da variância que pode ser explicada pelo modelo de regressão.\n",
        "# Informa o quão “próximo” as medidas reais estão do nosso modelo. Pode variar entre 0 e 1\n",
        "R2_SCORE = metrics.r2_score(y_test, y_pred)\n",
        "print('R2_SCORE:', metrics.r2_score(y_test, y_pred))"
      ],
      "metadata": {
        "id": "76qMcAuOZrVB",
        "colab": {
          "base_uri": "https://localhost:8080/"
        },
        "outputId": "cf9ece62-943a-40b0-e1f1-9a8d2f4f770d"
      },
      "execution_count": null,
      "outputs": [
        {
          "output_type": "stream",
          "name": "stdout",
          "text": [
            "MAE: 0.012480425167815844\n",
            "MSE: 0.0002242865528808242\n",
            "RMSE: 0.014976199547309197\n",
            "R2_SCORE: 0.9995135771133726\n"
          ]
        }
      ]
    },
    {
      "cell_type": "code",
      "source": [
        "x_train, x_test, y_train, y_test = train_test_split(x, y, test_size=0.2, random_state=42)"
      ],
      "metadata": {
        "id": "jVxpfDhn_Azc"
      },
      "execution_count": null,
      "outputs": []
    },
    {
      "cell_type": "code",
      "source": [
        "# Treinar o modelo\n",
        "model.fit(x_train, y_train)\n",
        "\n",
        "# Fazer previsões\n",
        "y_pred = model.predict(x_test)\n"
      ],
      "metadata": {
        "id": "V8OJEH8O_DDM"
      },
      "execution_count": null,
      "outputs": []
    },
    {
      "cell_type": "code",
      "source": [
        "# Avaliar o modelo\n",
        "mse = mean_squared_error(y_test, y_pred)\n",
        "print(f'Mean Squared Error: {mse}')\n",
        "\n",
        "r2 = r2_score(y_test, y_pred)\n",
        "print(f'R^2 Score: {r2}')\n",
        "\n",
        "# Exibir os coeficientes do modelo\n",
        "print('Coeficientes:', model.coef_)\n",
        "print('Intercepto:', model.intercept_)"
      ],
      "metadata": {
        "id": "iP-06cDJ_LYU",
        "colab": {
          "base_uri": "https://localhost:8080/"
        },
        "outputId": "1e5ba005-4ae0-4300-9b10-927052dbfbe2"
      },
      "execution_count": null,
      "outputs": [
        {
          "output_type": "stream",
          "name": "stdout",
          "text": [
            "Mean Squared Error: 0.0002242865528808242\n",
            "R^2 Score: 0.9995135771133726\n",
            "Coeficientes: [ 0.99151272 -0.00897664  0.00963239]\n",
            "Intercepto: -0.961105851463639\n"
          ]
        }
      ]
    },
    {
      "cell_type": "markdown",
      "source": [
        "MODELO DE APLICAÇÃO DO MACHINE LEARNING\n",
        "TREINO E TESTE COM XGBOOST"
      ],
      "metadata": {
        "id": "SvgQEWrdd2li"
      }
    },
    {
      "cell_type": "code",
      "source": [
        "# Criando o objeto da regressão XGBOOST\n",
        "xgb_regressor = XGBRegressor(random_state=42)\n",
        "\n",
        "# Modelo\n",
        "xgb_regressor.fit(x_train, y_train)"
      ],
      "metadata": {
        "id": "GAblKyEpdjHl",
        "colab": {
          "base_uri": "https://localhost:8080/",
          "height": 248
        },
        "outputId": "885c8e62-f78a-42af-eedf-721a4bfac35e"
      },
      "execution_count": null,
      "outputs": [
        {
          "output_type": "execute_result",
          "data": {
            "text/plain": [
              "XGBRegressor(base_score=None, booster=None, callbacks=None,\n",
              "             colsample_bylevel=None, colsample_bynode=None,\n",
              "             colsample_bytree=None, device=None, early_stopping_rounds=None,\n",
              "             enable_categorical=False, eval_metric=None, feature_types=None,\n",
              "             gamma=None, grow_policy=None, importance_type=None,\n",
              "             interaction_constraints=None, learning_rate=None, max_bin=None,\n",
              "             max_cat_threshold=None, max_cat_to_onehot=None,\n",
              "             max_delta_step=None, max_depth=None, max_leaves=None,\n",
              "             min_child_weight=None, missing=nan, monotone_constraints=None,\n",
              "             multi_strategy=None, n_estimators=None, n_jobs=None,\n",
              "             num_parallel_tree=None, random_state=42, ...)"
            ],
            "text/html": [
              "<style>#sk-container-id-4 {color: black;background-color: white;}#sk-container-id-4 pre{padding: 0;}#sk-container-id-4 div.sk-toggleable {background-color: white;}#sk-container-id-4 label.sk-toggleable__label {cursor: pointer;display: block;width: 100%;margin-bottom: 0;padding: 0.3em;box-sizing: border-box;text-align: center;}#sk-container-id-4 label.sk-toggleable__label-arrow:before {content: \"▸\";float: left;margin-right: 0.25em;color: #696969;}#sk-container-id-4 label.sk-toggleable__label-arrow:hover:before {color: black;}#sk-container-id-4 div.sk-estimator:hover label.sk-toggleable__label-arrow:before {color: black;}#sk-container-id-4 div.sk-toggleable__content {max-height: 0;max-width: 0;overflow: hidden;text-align: left;background-color: #f0f8ff;}#sk-container-id-4 div.sk-toggleable__content pre {margin: 0.2em;color: black;border-radius: 0.25em;background-color: #f0f8ff;}#sk-container-id-4 input.sk-toggleable__control:checked~div.sk-toggleable__content {max-height: 200px;max-width: 100%;overflow: auto;}#sk-container-id-4 input.sk-toggleable__control:checked~label.sk-toggleable__label-arrow:before {content: \"▾\";}#sk-container-id-4 div.sk-estimator input.sk-toggleable__control:checked~label.sk-toggleable__label {background-color: #d4ebff;}#sk-container-id-4 div.sk-label input.sk-toggleable__control:checked~label.sk-toggleable__label {background-color: #d4ebff;}#sk-container-id-4 input.sk-hidden--visually {border: 0;clip: rect(1px 1px 1px 1px);clip: rect(1px, 1px, 1px, 1px);height: 1px;margin: -1px;overflow: hidden;padding: 0;position: absolute;width: 1px;}#sk-container-id-4 div.sk-estimator {font-family: monospace;background-color: #f0f8ff;border: 1px dotted black;border-radius: 0.25em;box-sizing: border-box;margin-bottom: 0.5em;}#sk-container-id-4 div.sk-estimator:hover {background-color: #d4ebff;}#sk-container-id-4 div.sk-parallel-item::after {content: \"\";width: 100%;border-bottom: 1px solid gray;flex-grow: 1;}#sk-container-id-4 div.sk-label:hover label.sk-toggleable__label {background-color: #d4ebff;}#sk-container-id-4 div.sk-serial::before {content: \"\";position: absolute;border-left: 1px solid gray;box-sizing: border-box;top: 0;bottom: 0;left: 50%;z-index: 0;}#sk-container-id-4 div.sk-serial {display: flex;flex-direction: column;align-items: center;background-color: white;padding-right: 0.2em;padding-left: 0.2em;position: relative;}#sk-container-id-4 div.sk-item {position: relative;z-index: 1;}#sk-container-id-4 div.sk-parallel {display: flex;align-items: stretch;justify-content: center;background-color: white;position: relative;}#sk-container-id-4 div.sk-item::before, #sk-container-id-4 div.sk-parallel-item::before {content: \"\";position: absolute;border-left: 1px solid gray;box-sizing: border-box;top: 0;bottom: 0;left: 50%;z-index: -1;}#sk-container-id-4 div.sk-parallel-item {display: flex;flex-direction: column;z-index: 1;position: relative;background-color: white;}#sk-container-id-4 div.sk-parallel-item:first-child::after {align-self: flex-end;width: 50%;}#sk-container-id-4 div.sk-parallel-item:last-child::after {align-self: flex-start;width: 50%;}#sk-container-id-4 div.sk-parallel-item:only-child::after {width: 0;}#sk-container-id-4 div.sk-dashed-wrapped {border: 1px dashed gray;margin: 0 0.4em 0.5em 0.4em;box-sizing: border-box;padding-bottom: 0.4em;background-color: white;}#sk-container-id-4 div.sk-label label {font-family: monospace;font-weight: bold;display: inline-block;line-height: 1.2em;}#sk-container-id-4 div.sk-label-container {text-align: center;}#sk-container-id-4 div.sk-container {/* jupyter's `normalize.less` sets `[hidden] { display: none; }` but bootstrap.min.css set `[hidden] { display: none !important; }` so we also need the `!important` here to be able to override the default hidden behavior on the sphinx rendered scikit-learn.org. See: https://github.com/scikit-learn/scikit-learn/issues/21755 */display: inline-block !important;position: relative;}#sk-container-id-4 div.sk-text-repr-fallback {display: none;}</style><div id=\"sk-container-id-4\" class=\"sk-top-container\"><div class=\"sk-text-repr-fallback\"><pre>XGBRegressor(base_score=None, booster=None, callbacks=None,\n",
              "             colsample_bylevel=None, colsample_bynode=None,\n",
              "             colsample_bytree=None, device=None, early_stopping_rounds=None,\n",
              "             enable_categorical=False, eval_metric=None, feature_types=None,\n",
              "             gamma=None, grow_policy=None, importance_type=None,\n",
              "             interaction_constraints=None, learning_rate=None, max_bin=None,\n",
              "             max_cat_threshold=None, max_cat_to_onehot=None,\n",
              "             max_delta_step=None, max_depth=None, max_leaves=None,\n",
              "             min_child_weight=None, missing=nan, monotone_constraints=None,\n",
              "             multi_strategy=None, n_estimators=None, n_jobs=None,\n",
              "             num_parallel_tree=None, random_state=42, ...)</pre><b>In a Jupyter environment, please rerun this cell to show the HTML representation or trust the notebook. <br />On GitHub, the HTML representation is unable to render, please try loading this page with nbviewer.org.</b></div><div class=\"sk-container\" hidden><div class=\"sk-item\"><div class=\"sk-estimator sk-toggleable\"><input class=\"sk-toggleable__control sk-hidden--visually\" id=\"sk-estimator-id-4\" type=\"checkbox\" checked><label for=\"sk-estimator-id-4\" class=\"sk-toggleable__label sk-toggleable__label-arrow\">XGBRegressor</label><div class=\"sk-toggleable__content\"><pre>XGBRegressor(base_score=None, booster=None, callbacks=None,\n",
              "             colsample_bylevel=None, colsample_bynode=None,\n",
              "             colsample_bytree=None, device=None, early_stopping_rounds=None,\n",
              "             enable_categorical=False, eval_metric=None, feature_types=None,\n",
              "             gamma=None, grow_policy=None, importance_type=None,\n",
              "             interaction_constraints=None, learning_rate=None, max_bin=None,\n",
              "             max_cat_threshold=None, max_cat_to_onehot=None,\n",
              "             max_delta_step=None, max_depth=None, max_leaves=None,\n",
              "             min_child_weight=None, missing=nan, monotone_constraints=None,\n",
              "             multi_strategy=None, n_estimators=None, n_jobs=None,\n",
              "             num_parallel_tree=None, random_state=42, ...)</pre></div></div></div></div></div>"
            ]
          },
          "metadata": {},
          "execution_count": 38
        }
      ]
    },
    {
      "cell_type": "code",
      "source": [
        "# Utilizando o modelo nos dados de teste\n",
        "xgb_result = xgb_regressor.predict(x_test)\n",
        "xgb_result[10]"
      ],
      "metadata": {
        "id": "E7W9GabJdlXm",
        "colab": {
          "base_uri": "https://localhost:8080/"
        },
        "outputId": "598ebd0a-dd33-45de-ce97-837db6e4326f"
      },
      "execution_count": null,
      "outputs": [
        {
          "output_type": "execute_result",
          "data": {
            "text/plain": [
              "5.999929"
            ]
          },
          "metadata": {},
          "execution_count": 39
        }
      ]
    },
    {
      "cell_type": "code",
      "source": [
        "# Métricas de avaliação\n",
        "\n",
        "# Erro Absoluto Médio (MAE): mede as distâncias entre valores preditos e observados.\n",
        "# Essa métrica não é muito influenciada pelos outliers. Quanto menor seu valor, melhor\n",
        "MAE_xgb = metrics.mean_absolute_error(y_test, xgb_result)\n",
        "print('MAE_xgb:', metrics.mean_absolute_error(y_test, xgb_result))\n",
        "\n",
        "# Erro Quadrático Médio (MSE): indicada para problemas nos quais grandes erros não são tolerados.\n",
        "# Mais difícil de interpretar, pois eleva a unidade ao quadrado. Quanto menor seu valor, melhor\n",
        "MSE_xgb = metrics.mean_squared_error(y_test, xgb_result)\n",
        "print('MSE_xgb:', metrics.mean_squared_error(y_test, xgb_result))\n",
        "\n",
        "# Raiz do Erro Quadrático Médio (RMSE): tem a mesma unidade dos valores observados e preditos.\n",
        "# Seu resultado é uma medida do desvio médio (erro) entre observado e predito\n",
        "RMSE_xgb = np.sqrt(metrics.mean_squared_error(y_test, xgb_result))\n",
        "print('RMSE_xgb:', np.sqrt(metrics.mean_squared_error(y_test, xgb_result)))"
      ],
      "metadata": {
        "id": "nsKh928Zdi0o",
        "colab": {
          "base_uri": "https://localhost:8080/"
        },
        "outputId": "48e5eb3a-bba6-45af-96f6-5c39b8a6afba"
      },
      "execution_count": null,
      "outputs": [
        {
          "output_type": "stream",
          "name": "stdout",
          "text": [
            "MAE_xgb: 6.744861602783203e-05\n",
            "MSE_xgb: 8.68233200890245e-09\n",
            "RMSE_xgb: 9.317903202385421e-05\n"
          ]
        }
      ]
    },
    {
      "cell_type": "code",
      "source": [
        "df.info()"
      ],
      "metadata": {
        "colab": {
          "base_uri": "https://localhost:8080/"
        },
        "id": "BW3m_RTqcZCw",
        "outputId": "1f3c175a-7a38-40a7-c60f-a238a9aa9708"
      },
      "execution_count": null,
      "outputs": [
        {
          "output_type": "stream",
          "name": "stdout",
          "text": [
            "<class 'pandas.core.frame.DataFrame'>\n",
            "RangeIndex: 200 entries, 0 to 199\n",
            "Data columns (total 5 columns):\n",
            " #   Column                Non-Null Count  Dtype  \n",
            "---  ------                --------------  -----  \n",
            " 0   Aval_Cliente_Confiab  200 non-null    float64\n",
            " 1   Custo_Produto         200 non-null    int64  \n",
            " 2   Prazo_Entrega_Dias    200 non-null    int64  \n",
            " 3   Preço                 200 non-null    float64\n",
            " 4   Qualid_Produto        200 non-null    float64\n",
            "dtypes: float64(3), int64(2)\n",
            "memory usage: 7.9 KB\n"
          ]
        }
      ]
    },
    {
      "cell_type": "markdown",
      "metadata": {
        "id": "ZZKckQ_5omh9"
      },
      "source": [
        "# Random Forest"
      ]
    },
    {
      "cell_type": "code",
      "execution_count": null,
      "metadata": {
        "id": "7kOnAyRgmeTG",
        "colab": {
          "base_uri": "https://localhost:8080/",
          "height": 74
        },
        "outputId": "aff607bd-1bcd-4c5a-937e-4bd8fdecdc9e"
      },
      "outputs": [
        {
          "output_type": "execute_result",
          "data": {
            "text/plain": [
              "RandomForestRegressor(random_state=42)"
            ],
            "text/html": [
              "<style>#sk-container-id-5 {color: black;background-color: white;}#sk-container-id-5 pre{padding: 0;}#sk-container-id-5 div.sk-toggleable {background-color: white;}#sk-container-id-5 label.sk-toggleable__label {cursor: pointer;display: block;width: 100%;margin-bottom: 0;padding: 0.3em;box-sizing: border-box;text-align: center;}#sk-container-id-5 label.sk-toggleable__label-arrow:before {content: \"▸\";float: left;margin-right: 0.25em;color: #696969;}#sk-container-id-5 label.sk-toggleable__label-arrow:hover:before {color: black;}#sk-container-id-5 div.sk-estimator:hover label.sk-toggleable__label-arrow:before {color: black;}#sk-container-id-5 div.sk-toggleable__content {max-height: 0;max-width: 0;overflow: hidden;text-align: left;background-color: #f0f8ff;}#sk-container-id-5 div.sk-toggleable__content pre {margin: 0.2em;color: black;border-radius: 0.25em;background-color: #f0f8ff;}#sk-container-id-5 input.sk-toggleable__control:checked~div.sk-toggleable__content {max-height: 200px;max-width: 100%;overflow: auto;}#sk-container-id-5 input.sk-toggleable__control:checked~label.sk-toggleable__label-arrow:before {content: \"▾\";}#sk-container-id-5 div.sk-estimator input.sk-toggleable__control:checked~label.sk-toggleable__label {background-color: #d4ebff;}#sk-container-id-5 div.sk-label input.sk-toggleable__control:checked~label.sk-toggleable__label {background-color: #d4ebff;}#sk-container-id-5 input.sk-hidden--visually {border: 0;clip: rect(1px 1px 1px 1px);clip: rect(1px, 1px, 1px, 1px);height: 1px;margin: -1px;overflow: hidden;padding: 0;position: absolute;width: 1px;}#sk-container-id-5 div.sk-estimator {font-family: monospace;background-color: #f0f8ff;border: 1px dotted black;border-radius: 0.25em;box-sizing: border-box;margin-bottom: 0.5em;}#sk-container-id-5 div.sk-estimator:hover {background-color: #d4ebff;}#sk-container-id-5 div.sk-parallel-item::after {content: \"\";width: 100%;border-bottom: 1px solid gray;flex-grow: 1;}#sk-container-id-5 div.sk-label:hover label.sk-toggleable__label {background-color: #d4ebff;}#sk-container-id-5 div.sk-serial::before {content: \"\";position: absolute;border-left: 1px solid gray;box-sizing: border-box;top: 0;bottom: 0;left: 50%;z-index: 0;}#sk-container-id-5 div.sk-serial {display: flex;flex-direction: column;align-items: center;background-color: white;padding-right: 0.2em;padding-left: 0.2em;position: relative;}#sk-container-id-5 div.sk-item {position: relative;z-index: 1;}#sk-container-id-5 div.sk-parallel {display: flex;align-items: stretch;justify-content: center;background-color: white;position: relative;}#sk-container-id-5 div.sk-item::before, #sk-container-id-5 div.sk-parallel-item::before {content: \"\";position: absolute;border-left: 1px solid gray;box-sizing: border-box;top: 0;bottom: 0;left: 50%;z-index: -1;}#sk-container-id-5 div.sk-parallel-item {display: flex;flex-direction: column;z-index: 1;position: relative;background-color: white;}#sk-container-id-5 div.sk-parallel-item:first-child::after {align-self: flex-end;width: 50%;}#sk-container-id-5 div.sk-parallel-item:last-child::after {align-self: flex-start;width: 50%;}#sk-container-id-5 div.sk-parallel-item:only-child::after {width: 0;}#sk-container-id-5 div.sk-dashed-wrapped {border: 1px dashed gray;margin: 0 0.4em 0.5em 0.4em;box-sizing: border-box;padding-bottom: 0.4em;background-color: white;}#sk-container-id-5 div.sk-label label {font-family: monospace;font-weight: bold;display: inline-block;line-height: 1.2em;}#sk-container-id-5 div.sk-label-container {text-align: center;}#sk-container-id-5 div.sk-container {/* jupyter's `normalize.less` sets `[hidden] { display: none; }` but bootstrap.min.css set `[hidden] { display: none !important; }` so we also need the `!important` here to be able to override the default hidden behavior on the sphinx rendered scikit-learn.org. See: https://github.com/scikit-learn/scikit-learn/issues/21755 */display: inline-block !important;position: relative;}#sk-container-id-5 div.sk-text-repr-fallback {display: none;}</style><div id=\"sk-container-id-5\" class=\"sk-top-container\"><div class=\"sk-text-repr-fallback\"><pre>RandomForestRegressor(random_state=42)</pre><b>In a Jupyter environment, please rerun this cell to show the HTML representation or trust the notebook. <br />On GitHub, the HTML representation is unable to render, please try loading this page with nbviewer.org.</b></div><div class=\"sk-container\" hidden><div class=\"sk-item\"><div class=\"sk-estimator sk-toggleable\"><input class=\"sk-toggleable__control sk-hidden--visually\" id=\"sk-estimator-id-5\" type=\"checkbox\" checked><label for=\"sk-estimator-id-5\" class=\"sk-toggleable__label sk-toggleable__label-arrow\">RandomForestRegressor</label><div class=\"sk-toggleable__content\"><pre>RandomForestRegressor(random_state=42)</pre></div></div></div></div></div>"
            ]
          },
          "metadata": {},
          "execution_count": 42
        }
      ],
      "source": [
        "# Criando o objeto da regressão Random Forest\n",
        "rf_regressor = RandomForestRegressor(random_state=42)\n",
        "\n",
        "# Modelo\n",
        "rf_regressor.fit(x_train, y_train)"
      ]
    },
    {
      "cell_type": "code",
      "execution_count": null,
      "metadata": {
        "id": "7rQV41U2qLCL",
        "colab": {
          "base_uri": "https://localhost:8080/"
        },
        "outputId": "e7a64316-c359-4641-f285-2e609348b08a"
      },
      "outputs": [
        {
          "output_type": "execute_result",
          "data": {
            "text/plain": [
              "6.0"
            ]
          },
          "metadata": {},
          "execution_count": 43
        }
      ],
      "source": [
        "# Utilizando o modelo nos dados de teste\n",
        "rf_result = rf_regressor.predict(x_test)\n",
        "rf_result[10]"
      ]
    },
    {
      "cell_type": "code",
      "execution_count": null,
      "metadata": {
        "id": "Pl4XIZryQ6xE",
        "colab": {
          "base_uri": "https://localhost:8080/"
        },
        "outputId": "bc225c88-4866-4aad-9fb3-b71d802f1844"
      },
      "outputs": [
        {
          "output_type": "stream",
          "name": "stdout",
          "text": [
            "MAE_rf: 0.0035000000000000144\n",
            "MSE_rf: 0.000490000000000004\n",
            "RMSE_rf: 0.022135943621178746\n"
          ]
        }
      ],
      "source": [
        "# Métricas de avaliação\n",
        "\n",
        "# Erro Absoluto Médio (MAE): mede as distâncias entre valores preditos e observados.\n",
        "# Essa métrica não é muito influenciada pelos outliers. Quanto menor seu valor, melhor\n",
        "MAE_rf = metrics.mean_absolute_error(y_test, rf_result)\n",
        "print('MAE_rf:', metrics.mean_absolute_error(y_test, rf_result))\n",
        "\n",
        "# Erro Quadrático Médio (MSE): indicada para problemas nos quais grandes erros não são tolerados.\n",
        "# Mais difícil de interpretar, pois eleva a unidade ao quadrado. Quanto menor seu valor, melhor\n",
        "MSE_rf = metrics.mean_squared_error(y_test, rf_result)\n",
        "print('MSE_rf:', metrics.mean_squared_error(y_test, rf_result))\n",
        "\n",
        "# Raiz do Erro Quadrático Médio (RMSE): tem a mesma unidade dos valores observados e preditos.\n",
        "# Seu resultado é uma medida do desvio médio (erro) entre observado e predito\n",
        "RMSE_rf = np.sqrt(metrics.mean_squared_error(y_test, rf_result))\n",
        "print('RMSE_rf:', np.sqrt(metrics.mean_squared_error(y_test, rf_result)))\n"
      ]
    },
    {
      "cell_type": "markdown",
      "source": [],
      "metadata": {
        "id": "PFHvOLJ_eY-2"
      }
    },
    {
      "cell_type": "markdown",
      "metadata": {
        "id": "oOW29_PQouO-"
      },
      "source": [
        "# AdaBoosting"
      ]
    },
    {
      "cell_type": "code",
      "execution_count": null,
      "metadata": {
        "id": "XHesf838oQww",
        "colab": {
          "base_uri": "https://localhost:8080/",
          "height": 74
        },
        "outputId": "7720b174-fbc3-44f8-ba97-68293026d16c"
      },
      "outputs": [
        {
          "output_type": "execute_result",
          "data": {
            "text/plain": [
              "AdaBoostRegressor(random_state=42)"
            ],
            "text/html": [
              "<style>#sk-container-id-6 {color: black;background-color: white;}#sk-container-id-6 pre{padding: 0;}#sk-container-id-6 div.sk-toggleable {background-color: white;}#sk-container-id-6 label.sk-toggleable__label {cursor: pointer;display: block;width: 100%;margin-bottom: 0;padding: 0.3em;box-sizing: border-box;text-align: center;}#sk-container-id-6 label.sk-toggleable__label-arrow:before {content: \"▸\";float: left;margin-right: 0.25em;color: #696969;}#sk-container-id-6 label.sk-toggleable__label-arrow:hover:before {color: black;}#sk-container-id-6 div.sk-estimator:hover label.sk-toggleable__label-arrow:before {color: black;}#sk-container-id-6 div.sk-toggleable__content {max-height: 0;max-width: 0;overflow: hidden;text-align: left;background-color: #f0f8ff;}#sk-container-id-6 div.sk-toggleable__content pre {margin: 0.2em;color: black;border-radius: 0.25em;background-color: #f0f8ff;}#sk-container-id-6 input.sk-toggleable__control:checked~div.sk-toggleable__content {max-height: 200px;max-width: 100%;overflow: auto;}#sk-container-id-6 input.sk-toggleable__control:checked~label.sk-toggleable__label-arrow:before {content: \"▾\";}#sk-container-id-6 div.sk-estimator input.sk-toggleable__control:checked~label.sk-toggleable__label {background-color: #d4ebff;}#sk-container-id-6 div.sk-label input.sk-toggleable__control:checked~label.sk-toggleable__label {background-color: #d4ebff;}#sk-container-id-6 input.sk-hidden--visually {border: 0;clip: rect(1px 1px 1px 1px);clip: rect(1px, 1px, 1px, 1px);height: 1px;margin: -1px;overflow: hidden;padding: 0;position: absolute;width: 1px;}#sk-container-id-6 div.sk-estimator {font-family: monospace;background-color: #f0f8ff;border: 1px dotted black;border-radius: 0.25em;box-sizing: border-box;margin-bottom: 0.5em;}#sk-container-id-6 div.sk-estimator:hover {background-color: #d4ebff;}#sk-container-id-6 div.sk-parallel-item::after {content: \"\";width: 100%;border-bottom: 1px solid gray;flex-grow: 1;}#sk-container-id-6 div.sk-label:hover label.sk-toggleable__label {background-color: #d4ebff;}#sk-container-id-6 div.sk-serial::before {content: \"\";position: absolute;border-left: 1px solid gray;box-sizing: border-box;top: 0;bottom: 0;left: 50%;z-index: 0;}#sk-container-id-6 div.sk-serial {display: flex;flex-direction: column;align-items: center;background-color: white;padding-right: 0.2em;padding-left: 0.2em;position: relative;}#sk-container-id-6 div.sk-item {position: relative;z-index: 1;}#sk-container-id-6 div.sk-parallel {display: flex;align-items: stretch;justify-content: center;background-color: white;position: relative;}#sk-container-id-6 div.sk-item::before, #sk-container-id-6 div.sk-parallel-item::before {content: \"\";position: absolute;border-left: 1px solid gray;box-sizing: border-box;top: 0;bottom: 0;left: 50%;z-index: -1;}#sk-container-id-6 div.sk-parallel-item {display: flex;flex-direction: column;z-index: 1;position: relative;background-color: white;}#sk-container-id-6 div.sk-parallel-item:first-child::after {align-self: flex-end;width: 50%;}#sk-container-id-6 div.sk-parallel-item:last-child::after {align-self: flex-start;width: 50%;}#sk-container-id-6 div.sk-parallel-item:only-child::after {width: 0;}#sk-container-id-6 div.sk-dashed-wrapped {border: 1px dashed gray;margin: 0 0.4em 0.5em 0.4em;box-sizing: border-box;padding-bottom: 0.4em;background-color: white;}#sk-container-id-6 div.sk-label label {font-family: monospace;font-weight: bold;display: inline-block;line-height: 1.2em;}#sk-container-id-6 div.sk-label-container {text-align: center;}#sk-container-id-6 div.sk-container {/* jupyter's `normalize.less` sets `[hidden] { display: none; }` but bootstrap.min.css set `[hidden] { display: none !important; }` so we also need the `!important` here to be able to override the default hidden behavior on the sphinx rendered scikit-learn.org. See: https://github.com/scikit-learn/scikit-learn/issues/21755 */display: inline-block !important;position: relative;}#sk-container-id-6 div.sk-text-repr-fallback {display: none;}</style><div id=\"sk-container-id-6\" class=\"sk-top-container\"><div class=\"sk-text-repr-fallback\"><pre>AdaBoostRegressor(random_state=42)</pre><b>In a Jupyter environment, please rerun this cell to show the HTML representation or trust the notebook. <br />On GitHub, the HTML representation is unable to render, please try loading this page with nbviewer.org.</b></div><div class=\"sk-container\" hidden><div class=\"sk-item\"><div class=\"sk-estimator sk-toggleable\"><input class=\"sk-toggleable__control sk-hidden--visually\" id=\"sk-estimator-id-6\" type=\"checkbox\" checked><label for=\"sk-estimator-id-6\" class=\"sk-toggleable__label sk-toggleable__label-arrow\">AdaBoostRegressor</label><div class=\"sk-toggleable__content\"><pre>AdaBoostRegressor(random_state=42)</pre></div></div></div></div></div>"
            ]
          },
          "metadata": {},
          "execution_count": 45
        }
      ],
      "source": [
        "# Criando o objeto da regressão AdaBoost\n",
        "ada_regressor = AdaBoostRegressor(random_state=42)\n",
        "\n",
        "# Modelo\n",
        "ada_regressor.fit(x_train, y_train)"
      ]
    },
    {
      "cell_type": "code",
      "execution_count": null,
      "metadata": {
        "id": "g80JL1rHqU-F",
        "colab": {
          "base_uri": "https://localhost:8080/"
        },
        "outputId": "980cec5e-c656-4d6b-a350-d7b9bf1b15f0"
      },
      "outputs": [
        {
          "output_type": "execute_result",
          "data": {
            "text/plain": [
              "6.0"
            ]
          },
          "metadata": {},
          "execution_count": 46
        }
      ],
      "source": [
        "# Utilizando o modelo nos dados de teste\n",
        "ada_result = ada_regressor.predict(x_test)\n",
        "ada_result[10]"
      ]
    },
    {
      "cell_type": "code",
      "execution_count": null,
      "metadata": {
        "id": "bcfifHKXRMJ-",
        "colab": {
          "base_uri": "https://localhost:8080/"
        },
        "outputId": "91cb1672-e4f6-4871-b754-b4a1be6cbb1d"
      },
      "outputs": [
        {
          "output_type": "stream",
          "name": "stdout",
          "text": [
            "MAE_ada: 0.06893939393939388\n",
            "MSE_ada: 0.014623507805325961\n",
            "RMSE_ada: 0.12092769660142362\n"
          ]
        }
      ],
      "source": [
        "# Métricas de avaliação\n",
        "\n",
        "# Erro Absoluto Médio (MAE): mede as distâncias entre valores preditos e observados.\n",
        "# Essa métrica não é muito influenciada pelos outliers. Quanto menor seu valor, melhor\n",
        "MAE_ada = metrics.mean_absolute_error(y_test, ada_result)\n",
        "print('MAE_ada:', metrics.mean_absolute_error(y_test, ada_result))\n",
        "\n",
        "# Erro Quadrático Médio (MSE): indicada para problemas nos quais grandes erros não são tolerados.\n",
        "# Mais difícil de interpretar, pois eleva a unidade ao quadrado. Quanto menor seu valor, melhor\n",
        "MSE_ada = metrics.mean_squared_error(y_test, ada_result)\n",
        "print('MSE_ada:', metrics.mean_squared_error(y_test, ada_result))\n",
        "\n",
        "# Raiz do Erro Quadrático Médio (RMSE): tem a mesma unidade dos valores observados e preditos.\n",
        "# Seu resultado é uma medida do desvio médio (erro) entre observado e predito\n",
        "RMSE_ada = np.sqrt(metrics.mean_squared_error(y_test, ada_result))\n",
        "print('RMSE_ada:', np.sqrt(metrics.mean_squared_error(y_test, ada_result)))"
      ]
    },
    {
      "cell_type": "code",
      "source": [],
      "metadata": {
        "id": "-8LW_J-5iP0Y"
      },
      "execution_count": null,
      "outputs": []
    }
  ]
}